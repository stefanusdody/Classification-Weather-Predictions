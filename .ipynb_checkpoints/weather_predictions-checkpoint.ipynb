{
 "cells": [
  {
   "cell_type": "markdown",
   "id": "2ee12e1e",
   "metadata": {},
   "source": [
    "# Perkenalan"
   ]
  },
  {
   "cell_type": "markdown",
   "id": "ca8cb2c8",
   "metadata": {},
   "source": [
    "Nama  : Stepanus Dody kristianto Wicaksono\n",
    "    \n",
    "Batch : 001"
   ]
  },
  {
   "cell_type": "markdown",
   "id": "92965b10",
   "metadata": {},
   "source": [
    "#### Dataset"
   ]
  },
  {
   "cell_type": "markdown",
   "id": "99b81006",
   "metadata": {},
   "source": [
    "Kumpulan data ini berisi sekitar 10 tahun pengamatan cuaca harian dari banyak lokasi di seluruh Australia."
   ]
  },
  {
   "cell_type": "markdown",
   "id": "c629ec8f",
   "metadata": {},
   "source": [
    "#### Sumber Dataset"
   ]
  },
  {
   "cell_type": "markdown",
   "id": "43c9de7e",
   "metadata": {},
   "source": [
    "Dataset asli berasal dari data kaggle : https://www.kaggle.com/jsphyg/weather-dataset-rattle-package"
   ]
  },
  {
   "cell_type": "markdown",
   "id": "a00cd03c",
   "metadata": {},
   "source": [
    "#### Objectivitas"
   ]
  },
  {
   "cell_type": "markdown",
   "id": "a2b365eb",
   "metadata": {},
   "source": [
    "Prediksi hujan hari berikutnya dengan melatih model klasifikasi pada variabel target RainTomorrow."
   ]
  },
  {
   "cell_type": "markdown",
   "id": "f230dd21",
   "metadata": {},
   "source": [
    "# Import Pustaka"
   ]
  },
  {
   "cell_type": "code",
   "execution_count": 1,
   "id": "2661b0b1",
   "metadata": {},
   "outputs": [],
   "source": [
    "import pandas as pd\n",
    "import numpy as np\n",
    "import matplotlib.pyplot as plt\n",
    "import seaborn as sns\n",
    "\n",
    "%matplotlib inline"
   ]
  },
  {
   "cell_type": "markdown",
   "id": "1c4cb6aa",
   "metadata": {},
   "source": [
    "# Data Loading"
   ]
  },
  {
   "cell_type": "code",
   "execution_count": 2,
   "id": "53c616e5",
   "metadata": {},
   "outputs": [],
   "source": [
    "data = pd.read_csv('weatherAUS.csv')"
   ]
  },
  {
   "cell_type": "markdown",
   "id": "e014a7ec",
   "metadata": {},
   "source": [
    "#### Melihat 5 data teratas"
   ]
  },
  {
   "cell_type": "code",
   "execution_count": 3,
   "id": "62db530c",
   "metadata": {},
   "outputs": [
    {
     "data": {
      "text/html": [
       "<div>\n",
       "<style scoped>\n",
       "    .dataframe tbody tr th:only-of-type {\n",
       "        vertical-align: middle;\n",
       "    }\n",
       "\n",
       "    .dataframe tbody tr th {\n",
       "        vertical-align: top;\n",
       "    }\n",
       "\n",
       "    .dataframe thead th {\n",
       "        text-align: right;\n",
       "    }\n",
       "</style>\n",
       "<table border=\"1\" class=\"dataframe\">\n",
       "  <thead>\n",
       "    <tr style=\"text-align: right;\">\n",
       "      <th></th>\n",
       "      <th>Date</th>\n",
       "      <th>Location</th>\n",
       "      <th>MinTemp</th>\n",
       "      <th>MaxTemp</th>\n",
       "      <th>Rainfall</th>\n",
       "      <th>Evaporation</th>\n",
       "      <th>Sunshine</th>\n",
       "      <th>WindGustDir</th>\n",
       "      <th>WindGustSpeed</th>\n",
       "      <th>WindDir9am</th>\n",
       "      <th>...</th>\n",
       "      <th>Humidity9am</th>\n",
       "      <th>Humidity3pm</th>\n",
       "      <th>Pressure9am</th>\n",
       "      <th>Pressure3pm</th>\n",
       "      <th>Cloud9am</th>\n",
       "      <th>Cloud3pm</th>\n",
       "      <th>Temp9am</th>\n",
       "      <th>Temp3pm</th>\n",
       "      <th>RainToday</th>\n",
       "      <th>RainTomorrow</th>\n",
       "    </tr>\n",
       "  </thead>\n",
       "  <tbody>\n",
       "    <tr>\n",
       "      <th>0</th>\n",
       "      <td>2008-12-01</td>\n",
       "      <td>Albury</td>\n",
       "      <td>13.4</td>\n",
       "      <td>22.9</td>\n",
       "      <td>0.6</td>\n",
       "      <td>NaN</td>\n",
       "      <td>NaN</td>\n",
       "      <td>W</td>\n",
       "      <td>44.0</td>\n",
       "      <td>W</td>\n",
       "      <td>...</td>\n",
       "      <td>71.0</td>\n",
       "      <td>22.0</td>\n",
       "      <td>1007.7</td>\n",
       "      <td>1007.1</td>\n",
       "      <td>8.0</td>\n",
       "      <td>NaN</td>\n",
       "      <td>16.9</td>\n",
       "      <td>21.8</td>\n",
       "      <td>No</td>\n",
       "      <td>No</td>\n",
       "    </tr>\n",
       "    <tr>\n",
       "      <th>1</th>\n",
       "      <td>2008-12-02</td>\n",
       "      <td>Albury</td>\n",
       "      <td>7.4</td>\n",
       "      <td>25.1</td>\n",
       "      <td>0.0</td>\n",
       "      <td>NaN</td>\n",
       "      <td>NaN</td>\n",
       "      <td>WNW</td>\n",
       "      <td>44.0</td>\n",
       "      <td>NNW</td>\n",
       "      <td>...</td>\n",
       "      <td>44.0</td>\n",
       "      <td>25.0</td>\n",
       "      <td>1010.6</td>\n",
       "      <td>1007.8</td>\n",
       "      <td>NaN</td>\n",
       "      <td>NaN</td>\n",
       "      <td>17.2</td>\n",
       "      <td>24.3</td>\n",
       "      <td>No</td>\n",
       "      <td>No</td>\n",
       "    </tr>\n",
       "    <tr>\n",
       "      <th>2</th>\n",
       "      <td>2008-12-03</td>\n",
       "      <td>Albury</td>\n",
       "      <td>12.9</td>\n",
       "      <td>25.7</td>\n",
       "      <td>0.0</td>\n",
       "      <td>NaN</td>\n",
       "      <td>NaN</td>\n",
       "      <td>WSW</td>\n",
       "      <td>46.0</td>\n",
       "      <td>W</td>\n",
       "      <td>...</td>\n",
       "      <td>38.0</td>\n",
       "      <td>30.0</td>\n",
       "      <td>1007.6</td>\n",
       "      <td>1008.7</td>\n",
       "      <td>NaN</td>\n",
       "      <td>2.0</td>\n",
       "      <td>21.0</td>\n",
       "      <td>23.2</td>\n",
       "      <td>No</td>\n",
       "      <td>No</td>\n",
       "    </tr>\n",
       "    <tr>\n",
       "      <th>3</th>\n",
       "      <td>2008-12-04</td>\n",
       "      <td>Albury</td>\n",
       "      <td>9.2</td>\n",
       "      <td>28.0</td>\n",
       "      <td>0.0</td>\n",
       "      <td>NaN</td>\n",
       "      <td>NaN</td>\n",
       "      <td>NE</td>\n",
       "      <td>24.0</td>\n",
       "      <td>SE</td>\n",
       "      <td>...</td>\n",
       "      <td>45.0</td>\n",
       "      <td>16.0</td>\n",
       "      <td>1017.6</td>\n",
       "      <td>1012.8</td>\n",
       "      <td>NaN</td>\n",
       "      <td>NaN</td>\n",
       "      <td>18.1</td>\n",
       "      <td>26.5</td>\n",
       "      <td>No</td>\n",
       "      <td>No</td>\n",
       "    </tr>\n",
       "    <tr>\n",
       "      <th>4</th>\n",
       "      <td>2008-12-05</td>\n",
       "      <td>Albury</td>\n",
       "      <td>17.5</td>\n",
       "      <td>32.3</td>\n",
       "      <td>1.0</td>\n",
       "      <td>NaN</td>\n",
       "      <td>NaN</td>\n",
       "      <td>W</td>\n",
       "      <td>41.0</td>\n",
       "      <td>ENE</td>\n",
       "      <td>...</td>\n",
       "      <td>82.0</td>\n",
       "      <td>33.0</td>\n",
       "      <td>1010.8</td>\n",
       "      <td>1006.0</td>\n",
       "      <td>7.0</td>\n",
       "      <td>8.0</td>\n",
       "      <td>17.8</td>\n",
       "      <td>29.7</td>\n",
       "      <td>No</td>\n",
       "      <td>No</td>\n",
       "    </tr>\n",
       "  </tbody>\n",
       "</table>\n",
       "<p>5 rows × 23 columns</p>\n",
       "</div>"
      ],
      "text/plain": [
       "         Date Location  MinTemp  MaxTemp  Rainfall  Evaporation  Sunshine  \\\n",
       "0  2008-12-01   Albury     13.4     22.9       0.6          NaN       NaN   \n",
       "1  2008-12-02   Albury      7.4     25.1       0.0          NaN       NaN   \n",
       "2  2008-12-03   Albury     12.9     25.7       0.0          NaN       NaN   \n",
       "3  2008-12-04   Albury      9.2     28.0       0.0          NaN       NaN   \n",
       "4  2008-12-05   Albury     17.5     32.3       1.0          NaN       NaN   \n",
       "\n",
       "  WindGustDir  WindGustSpeed WindDir9am  ... Humidity9am  Humidity3pm  \\\n",
       "0           W           44.0          W  ...        71.0         22.0   \n",
       "1         WNW           44.0        NNW  ...        44.0         25.0   \n",
       "2         WSW           46.0          W  ...        38.0         30.0   \n",
       "3          NE           24.0         SE  ...        45.0         16.0   \n",
       "4           W           41.0        ENE  ...        82.0         33.0   \n",
       "\n",
       "   Pressure9am  Pressure3pm  Cloud9am  Cloud3pm  Temp9am  Temp3pm  RainToday  \\\n",
       "0       1007.7       1007.1       8.0       NaN     16.9     21.8         No   \n",
       "1       1010.6       1007.8       NaN       NaN     17.2     24.3         No   \n",
       "2       1007.6       1008.7       NaN       2.0     21.0     23.2         No   \n",
       "3       1017.6       1012.8       NaN       NaN     18.1     26.5         No   \n",
       "4       1010.8       1006.0       7.0       8.0     17.8     29.7         No   \n",
       "\n",
       "   RainTomorrow  \n",
       "0            No  \n",
       "1            No  \n",
       "2            No  \n",
       "3            No  \n",
       "4            No  \n",
       "\n",
       "[5 rows x 23 columns]"
      ]
     },
     "execution_count": 3,
     "metadata": {},
     "output_type": "execute_result"
    }
   ],
   "source": [
    "data.head()"
   ]
  },
  {
   "cell_type": "markdown",
   "id": "b05cb354",
   "metadata": {},
   "source": [
    "#### Melihat 5 data terbawah"
   ]
  },
  {
   "cell_type": "code",
   "execution_count": 4,
   "id": "97fc3ae1",
   "metadata": {},
   "outputs": [
    {
     "data": {
      "text/html": [
       "<div>\n",
       "<style scoped>\n",
       "    .dataframe tbody tr th:only-of-type {\n",
       "        vertical-align: middle;\n",
       "    }\n",
       "\n",
       "    .dataframe tbody tr th {\n",
       "        vertical-align: top;\n",
       "    }\n",
       "\n",
       "    .dataframe thead th {\n",
       "        text-align: right;\n",
       "    }\n",
       "</style>\n",
       "<table border=\"1\" class=\"dataframe\">\n",
       "  <thead>\n",
       "    <tr style=\"text-align: right;\">\n",
       "      <th></th>\n",
       "      <th>Date</th>\n",
       "      <th>Location</th>\n",
       "      <th>MinTemp</th>\n",
       "      <th>MaxTemp</th>\n",
       "      <th>Rainfall</th>\n",
       "      <th>Evaporation</th>\n",
       "      <th>Sunshine</th>\n",
       "      <th>WindGustDir</th>\n",
       "      <th>WindGustSpeed</th>\n",
       "      <th>WindDir9am</th>\n",
       "      <th>...</th>\n",
       "      <th>Humidity9am</th>\n",
       "      <th>Humidity3pm</th>\n",
       "      <th>Pressure9am</th>\n",
       "      <th>Pressure3pm</th>\n",
       "      <th>Cloud9am</th>\n",
       "      <th>Cloud3pm</th>\n",
       "      <th>Temp9am</th>\n",
       "      <th>Temp3pm</th>\n",
       "      <th>RainToday</th>\n",
       "      <th>RainTomorrow</th>\n",
       "    </tr>\n",
       "  </thead>\n",
       "  <tbody>\n",
       "    <tr>\n",
       "      <th>145455</th>\n",
       "      <td>2017-06-21</td>\n",
       "      <td>Uluru</td>\n",
       "      <td>2.8</td>\n",
       "      <td>23.4</td>\n",
       "      <td>0.0</td>\n",
       "      <td>NaN</td>\n",
       "      <td>NaN</td>\n",
       "      <td>E</td>\n",
       "      <td>31.0</td>\n",
       "      <td>SE</td>\n",
       "      <td>...</td>\n",
       "      <td>51.0</td>\n",
       "      <td>24.0</td>\n",
       "      <td>1024.6</td>\n",
       "      <td>1020.3</td>\n",
       "      <td>NaN</td>\n",
       "      <td>NaN</td>\n",
       "      <td>10.1</td>\n",
       "      <td>22.4</td>\n",
       "      <td>No</td>\n",
       "      <td>No</td>\n",
       "    </tr>\n",
       "    <tr>\n",
       "      <th>145456</th>\n",
       "      <td>2017-06-22</td>\n",
       "      <td>Uluru</td>\n",
       "      <td>3.6</td>\n",
       "      <td>25.3</td>\n",
       "      <td>0.0</td>\n",
       "      <td>NaN</td>\n",
       "      <td>NaN</td>\n",
       "      <td>NNW</td>\n",
       "      <td>22.0</td>\n",
       "      <td>SE</td>\n",
       "      <td>...</td>\n",
       "      <td>56.0</td>\n",
       "      <td>21.0</td>\n",
       "      <td>1023.5</td>\n",
       "      <td>1019.1</td>\n",
       "      <td>NaN</td>\n",
       "      <td>NaN</td>\n",
       "      <td>10.9</td>\n",
       "      <td>24.5</td>\n",
       "      <td>No</td>\n",
       "      <td>No</td>\n",
       "    </tr>\n",
       "    <tr>\n",
       "      <th>145457</th>\n",
       "      <td>2017-06-23</td>\n",
       "      <td>Uluru</td>\n",
       "      <td>5.4</td>\n",
       "      <td>26.9</td>\n",
       "      <td>0.0</td>\n",
       "      <td>NaN</td>\n",
       "      <td>NaN</td>\n",
       "      <td>N</td>\n",
       "      <td>37.0</td>\n",
       "      <td>SE</td>\n",
       "      <td>...</td>\n",
       "      <td>53.0</td>\n",
       "      <td>24.0</td>\n",
       "      <td>1021.0</td>\n",
       "      <td>1016.8</td>\n",
       "      <td>NaN</td>\n",
       "      <td>NaN</td>\n",
       "      <td>12.5</td>\n",
       "      <td>26.1</td>\n",
       "      <td>No</td>\n",
       "      <td>No</td>\n",
       "    </tr>\n",
       "    <tr>\n",
       "      <th>145458</th>\n",
       "      <td>2017-06-24</td>\n",
       "      <td>Uluru</td>\n",
       "      <td>7.8</td>\n",
       "      <td>27.0</td>\n",
       "      <td>0.0</td>\n",
       "      <td>NaN</td>\n",
       "      <td>NaN</td>\n",
       "      <td>SE</td>\n",
       "      <td>28.0</td>\n",
       "      <td>SSE</td>\n",
       "      <td>...</td>\n",
       "      <td>51.0</td>\n",
       "      <td>24.0</td>\n",
       "      <td>1019.4</td>\n",
       "      <td>1016.5</td>\n",
       "      <td>3.0</td>\n",
       "      <td>2.0</td>\n",
       "      <td>15.1</td>\n",
       "      <td>26.0</td>\n",
       "      <td>No</td>\n",
       "      <td>No</td>\n",
       "    </tr>\n",
       "    <tr>\n",
       "      <th>145459</th>\n",
       "      <td>2017-06-25</td>\n",
       "      <td>Uluru</td>\n",
       "      <td>14.9</td>\n",
       "      <td>NaN</td>\n",
       "      <td>0.0</td>\n",
       "      <td>NaN</td>\n",
       "      <td>NaN</td>\n",
       "      <td>NaN</td>\n",
       "      <td>NaN</td>\n",
       "      <td>ESE</td>\n",
       "      <td>...</td>\n",
       "      <td>62.0</td>\n",
       "      <td>36.0</td>\n",
       "      <td>1020.2</td>\n",
       "      <td>1017.9</td>\n",
       "      <td>8.0</td>\n",
       "      <td>8.0</td>\n",
       "      <td>15.0</td>\n",
       "      <td>20.9</td>\n",
       "      <td>No</td>\n",
       "      <td>NaN</td>\n",
       "    </tr>\n",
       "  </tbody>\n",
       "</table>\n",
       "<p>5 rows × 23 columns</p>\n",
       "</div>"
      ],
      "text/plain": [
       "              Date Location  MinTemp  MaxTemp  Rainfall  Evaporation  \\\n",
       "145455  2017-06-21    Uluru      2.8     23.4       0.0          NaN   \n",
       "145456  2017-06-22    Uluru      3.6     25.3       0.0          NaN   \n",
       "145457  2017-06-23    Uluru      5.4     26.9       0.0          NaN   \n",
       "145458  2017-06-24    Uluru      7.8     27.0       0.0          NaN   \n",
       "145459  2017-06-25    Uluru     14.9      NaN       0.0          NaN   \n",
       "\n",
       "        Sunshine WindGustDir  WindGustSpeed WindDir9am  ... Humidity9am  \\\n",
       "145455       NaN           E           31.0         SE  ...        51.0   \n",
       "145456       NaN         NNW           22.0         SE  ...        56.0   \n",
       "145457       NaN           N           37.0         SE  ...        53.0   \n",
       "145458       NaN          SE           28.0        SSE  ...        51.0   \n",
       "145459       NaN         NaN            NaN        ESE  ...        62.0   \n",
       "\n",
       "        Humidity3pm  Pressure9am  Pressure3pm  Cloud9am  Cloud3pm  Temp9am  \\\n",
       "145455         24.0       1024.6       1020.3       NaN       NaN     10.1   \n",
       "145456         21.0       1023.5       1019.1       NaN       NaN     10.9   \n",
       "145457         24.0       1021.0       1016.8       NaN       NaN     12.5   \n",
       "145458         24.0       1019.4       1016.5       3.0       2.0     15.1   \n",
       "145459         36.0       1020.2       1017.9       8.0       8.0     15.0   \n",
       "\n",
       "        Temp3pm  RainToday  RainTomorrow  \n",
       "145455     22.4         No            No  \n",
       "145456     24.5         No            No  \n",
       "145457     26.1         No            No  \n",
       "145458     26.0         No            No  \n",
       "145459     20.9         No           NaN  \n",
       "\n",
       "[5 rows x 23 columns]"
      ]
     },
     "execution_count": 4,
     "metadata": {},
     "output_type": "execute_result"
    }
   ],
   "source": [
    "data.tail()"
   ]
  },
  {
   "cell_type": "markdown",
   "id": "a14a037b",
   "metadata": {},
   "source": [
    "#### Melihat informasi data"
   ]
  },
  {
   "cell_type": "code",
   "execution_count": 5,
   "id": "0dccabc6",
   "metadata": {},
   "outputs": [
    {
     "name": "stdout",
     "output_type": "stream",
     "text": [
      "<class 'pandas.core.frame.DataFrame'>\n",
      "RangeIndex: 145460 entries, 0 to 145459\n",
      "Data columns (total 23 columns):\n",
      " #   Column         Non-Null Count   Dtype  \n",
      "---  ------         --------------   -----  \n",
      " 0   Date           145460 non-null  object \n",
      " 1   Location       145460 non-null  object \n",
      " 2   MinTemp        143975 non-null  float64\n",
      " 3   MaxTemp        144199 non-null  float64\n",
      " 4   Rainfall       142199 non-null  float64\n",
      " 5   Evaporation    82670 non-null   float64\n",
      " 6   Sunshine       75625 non-null   float64\n",
      " 7   WindGustDir    135134 non-null  object \n",
      " 8   WindGustSpeed  135197 non-null  float64\n",
      " 9   WindDir9am     134894 non-null  object \n",
      " 10  WindDir3pm     141232 non-null  object \n",
      " 11  WindSpeed9am   143693 non-null  float64\n",
      " 12  WindSpeed3pm   142398 non-null  float64\n",
      " 13  Humidity9am    142806 non-null  float64\n",
      " 14  Humidity3pm    140953 non-null  float64\n",
      " 15  Pressure9am    130395 non-null  float64\n",
      " 16  Pressure3pm    130432 non-null  float64\n",
      " 17  Cloud9am       89572 non-null   float64\n",
      " 18  Cloud3pm       86102 non-null   float64\n",
      " 19  Temp9am        143693 non-null  float64\n",
      " 20  Temp3pm        141851 non-null  float64\n",
      " 21  RainToday      142199 non-null  object \n",
      " 22  RainTomorrow   142193 non-null  object \n",
      "dtypes: float64(16), object(7)\n",
      "memory usage: 25.5+ MB\n"
     ]
    }
   ],
   "source": [
    "data.info()"
   ]
  },
  {
   "cell_type": "markdown",
   "id": "7960c42b",
   "metadata": {},
   "source": [
    "#### Melihat statistika data "
   ]
  },
  {
   "cell_type": "code",
   "execution_count": 6,
   "id": "868ce1d3",
   "metadata": {},
   "outputs": [
    {
     "data": {
      "text/html": [
       "<div>\n",
       "<style scoped>\n",
       "    .dataframe tbody tr th:only-of-type {\n",
       "        vertical-align: middle;\n",
       "    }\n",
       "\n",
       "    .dataframe tbody tr th {\n",
       "        vertical-align: top;\n",
       "    }\n",
       "\n",
       "    .dataframe thead th {\n",
       "        text-align: right;\n",
       "    }\n",
       "</style>\n",
       "<table border=\"1\" class=\"dataframe\">\n",
       "  <thead>\n",
       "    <tr style=\"text-align: right;\">\n",
       "      <th></th>\n",
       "      <th>MinTemp</th>\n",
       "      <th>MaxTemp</th>\n",
       "      <th>Rainfall</th>\n",
       "      <th>Evaporation</th>\n",
       "      <th>Sunshine</th>\n",
       "      <th>WindGustSpeed</th>\n",
       "      <th>WindSpeed9am</th>\n",
       "      <th>WindSpeed3pm</th>\n",
       "      <th>Humidity9am</th>\n",
       "      <th>Humidity3pm</th>\n",
       "      <th>Pressure9am</th>\n",
       "      <th>Pressure3pm</th>\n",
       "      <th>Cloud9am</th>\n",
       "      <th>Cloud3pm</th>\n",
       "      <th>Temp9am</th>\n",
       "      <th>Temp3pm</th>\n",
       "    </tr>\n",
       "  </thead>\n",
       "  <tbody>\n",
       "    <tr>\n",
       "      <th>count</th>\n",
       "      <td>143975.000000</td>\n",
       "      <td>144199.000000</td>\n",
       "      <td>142199.000000</td>\n",
       "      <td>82670.000000</td>\n",
       "      <td>75625.000000</td>\n",
       "      <td>135197.000000</td>\n",
       "      <td>143693.000000</td>\n",
       "      <td>142398.000000</td>\n",
       "      <td>142806.000000</td>\n",
       "      <td>140953.000000</td>\n",
       "      <td>130395.00000</td>\n",
       "      <td>130432.000000</td>\n",
       "      <td>89572.000000</td>\n",
       "      <td>86102.000000</td>\n",
       "      <td>143693.000000</td>\n",
       "      <td>141851.00000</td>\n",
       "    </tr>\n",
       "    <tr>\n",
       "      <th>mean</th>\n",
       "      <td>12.194034</td>\n",
       "      <td>23.221348</td>\n",
       "      <td>2.360918</td>\n",
       "      <td>5.468232</td>\n",
       "      <td>7.611178</td>\n",
       "      <td>40.035230</td>\n",
       "      <td>14.043426</td>\n",
       "      <td>18.662657</td>\n",
       "      <td>68.880831</td>\n",
       "      <td>51.539116</td>\n",
       "      <td>1017.64994</td>\n",
       "      <td>1015.255889</td>\n",
       "      <td>4.447461</td>\n",
       "      <td>4.509930</td>\n",
       "      <td>16.990631</td>\n",
       "      <td>21.68339</td>\n",
       "    </tr>\n",
       "    <tr>\n",
       "      <th>std</th>\n",
       "      <td>6.398495</td>\n",
       "      <td>7.119049</td>\n",
       "      <td>8.478060</td>\n",
       "      <td>4.193704</td>\n",
       "      <td>3.785483</td>\n",
       "      <td>13.607062</td>\n",
       "      <td>8.915375</td>\n",
       "      <td>8.809800</td>\n",
       "      <td>19.029164</td>\n",
       "      <td>20.795902</td>\n",
       "      <td>7.10653</td>\n",
       "      <td>7.037414</td>\n",
       "      <td>2.887159</td>\n",
       "      <td>2.720357</td>\n",
       "      <td>6.488753</td>\n",
       "      <td>6.93665</td>\n",
       "    </tr>\n",
       "    <tr>\n",
       "      <th>min</th>\n",
       "      <td>-8.500000</td>\n",
       "      <td>-4.800000</td>\n",
       "      <td>0.000000</td>\n",
       "      <td>0.000000</td>\n",
       "      <td>0.000000</td>\n",
       "      <td>6.000000</td>\n",
       "      <td>0.000000</td>\n",
       "      <td>0.000000</td>\n",
       "      <td>0.000000</td>\n",
       "      <td>0.000000</td>\n",
       "      <td>980.50000</td>\n",
       "      <td>977.100000</td>\n",
       "      <td>0.000000</td>\n",
       "      <td>0.000000</td>\n",
       "      <td>-7.200000</td>\n",
       "      <td>-5.40000</td>\n",
       "    </tr>\n",
       "    <tr>\n",
       "      <th>25%</th>\n",
       "      <td>7.600000</td>\n",
       "      <td>17.900000</td>\n",
       "      <td>0.000000</td>\n",
       "      <td>2.600000</td>\n",
       "      <td>4.800000</td>\n",
       "      <td>31.000000</td>\n",
       "      <td>7.000000</td>\n",
       "      <td>13.000000</td>\n",
       "      <td>57.000000</td>\n",
       "      <td>37.000000</td>\n",
       "      <td>1012.90000</td>\n",
       "      <td>1010.400000</td>\n",
       "      <td>1.000000</td>\n",
       "      <td>2.000000</td>\n",
       "      <td>12.300000</td>\n",
       "      <td>16.60000</td>\n",
       "    </tr>\n",
       "    <tr>\n",
       "      <th>50%</th>\n",
       "      <td>12.000000</td>\n",
       "      <td>22.600000</td>\n",
       "      <td>0.000000</td>\n",
       "      <td>4.800000</td>\n",
       "      <td>8.400000</td>\n",
       "      <td>39.000000</td>\n",
       "      <td>13.000000</td>\n",
       "      <td>19.000000</td>\n",
       "      <td>70.000000</td>\n",
       "      <td>52.000000</td>\n",
       "      <td>1017.60000</td>\n",
       "      <td>1015.200000</td>\n",
       "      <td>5.000000</td>\n",
       "      <td>5.000000</td>\n",
       "      <td>16.700000</td>\n",
       "      <td>21.10000</td>\n",
       "    </tr>\n",
       "    <tr>\n",
       "      <th>75%</th>\n",
       "      <td>16.900000</td>\n",
       "      <td>28.200000</td>\n",
       "      <td>0.800000</td>\n",
       "      <td>7.400000</td>\n",
       "      <td>10.600000</td>\n",
       "      <td>48.000000</td>\n",
       "      <td>19.000000</td>\n",
       "      <td>24.000000</td>\n",
       "      <td>83.000000</td>\n",
       "      <td>66.000000</td>\n",
       "      <td>1022.40000</td>\n",
       "      <td>1020.000000</td>\n",
       "      <td>7.000000</td>\n",
       "      <td>7.000000</td>\n",
       "      <td>21.600000</td>\n",
       "      <td>26.40000</td>\n",
       "    </tr>\n",
       "    <tr>\n",
       "      <th>max</th>\n",
       "      <td>33.900000</td>\n",
       "      <td>48.100000</td>\n",
       "      <td>371.000000</td>\n",
       "      <td>145.000000</td>\n",
       "      <td>14.500000</td>\n",
       "      <td>135.000000</td>\n",
       "      <td>130.000000</td>\n",
       "      <td>87.000000</td>\n",
       "      <td>100.000000</td>\n",
       "      <td>100.000000</td>\n",
       "      <td>1041.00000</td>\n",
       "      <td>1039.600000</td>\n",
       "      <td>9.000000</td>\n",
       "      <td>9.000000</td>\n",
       "      <td>40.200000</td>\n",
       "      <td>46.70000</td>\n",
       "    </tr>\n",
       "  </tbody>\n",
       "</table>\n",
       "</div>"
      ],
      "text/plain": [
       "             MinTemp        MaxTemp       Rainfall   Evaporation  \\\n",
       "count  143975.000000  144199.000000  142199.000000  82670.000000   \n",
       "mean       12.194034      23.221348       2.360918      5.468232   \n",
       "std         6.398495       7.119049       8.478060      4.193704   \n",
       "min        -8.500000      -4.800000       0.000000      0.000000   \n",
       "25%         7.600000      17.900000       0.000000      2.600000   \n",
       "50%        12.000000      22.600000       0.000000      4.800000   \n",
       "75%        16.900000      28.200000       0.800000      7.400000   \n",
       "max        33.900000      48.100000     371.000000    145.000000   \n",
       "\n",
       "           Sunshine  WindGustSpeed   WindSpeed9am   WindSpeed3pm  \\\n",
       "count  75625.000000  135197.000000  143693.000000  142398.000000   \n",
       "mean       7.611178      40.035230      14.043426      18.662657   \n",
       "std        3.785483      13.607062       8.915375       8.809800   \n",
       "min        0.000000       6.000000       0.000000       0.000000   \n",
       "25%        4.800000      31.000000       7.000000      13.000000   \n",
       "50%        8.400000      39.000000      13.000000      19.000000   \n",
       "75%       10.600000      48.000000      19.000000      24.000000   \n",
       "max       14.500000     135.000000     130.000000      87.000000   \n",
       "\n",
       "         Humidity9am    Humidity3pm   Pressure9am    Pressure3pm  \\\n",
       "count  142806.000000  140953.000000  130395.00000  130432.000000   \n",
       "mean       68.880831      51.539116    1017.64994    1015.255889   \n",
       "std        19.029164      20.795902       7.10653       7.037414   \n",
       "min         0.000000       0.000000     980.50000     977.100000   \n",
       "25%        57.000000      37.000000    1012.90000    1010.400000   \n",
       "50%        70.000000      52.000000    1017.60000    1015.200000   \n",
       "75%        83.000000      66.000000    1022.40000    1020.000000   \n",
       "max       100.000000     100.000000    1041.00000    1039.600000   \n",
       "\n",
       "           Cloud9am      Cloud3pm        Temp9am       Temp3pm  \n",
       "count  89572.000000  86102.000000  143693.000000  141851.00000  \n",
       "mean       4.447461      4.509930      16.990631      21.68339  \n",
       "std        2.887159      2.720357       6.488753       6.93665  \n",
       "min        0.000000      0.000000      -7.200000      -5.40000  \n",
       "25%        1.000000      2.000000      12.300000      16.60000  \n",
       "50%        5.000000      5.000000      16.700000      21.10000  \n",
       "75%        7.000000      7.000000      21.600000      26.40000  \n",
       "max        9.000000      9.000000      40.200000      46.70000  "
      ]
     },
     "execution_count": 6,
     "metadata": {},
     "output_type": "execute_result"
    }
   ],
   "source": [
    "data.describe()"
   ]
  },
  {
   "cell_type": "markdown",
   "id": "0e92ab93",
   "metadata": {},
   "source": [
    "#### Melihat Columns"
   ]
  },
  {
   "cell_type": "code",
   "execution_count": 7,
   "id": "5ada7255",
   "metadata": {},
   "outputs": [
    {
     "data": {
      "text/plain": [
       "Index(['Date', 'Location', 'MinTemp', 'MaxTemp', 'Rainfall', 'Evaporation',\n",
       "       'Sunshine', 'WindGustDir', 'WindGustSpeed', 'WindDir9am', 'WindDir3pm',\n",
       "       'WindSpeed9am', 'WindSpeed3pm', 'Humidity9am', 'Humidity3pm',\n",
       "       'Pressure9am', 'Pressure3pm', 'Cloud9am', 'Cloud3pm', 'Temp9am',\n",
       "       'Temp3pm', 'RainToday', 'RainTomorrow'],\n",
       "      dtype='object')"
      ]
     },
     "execution_count": 7,
     "metadata": {},
     "output_type": "execute_result"
    }
   ],
   "source": [
    "data.columns"
   ]
  },
  {
   "cell_type": "markdown",
   "id": "53d1164a",
   "metadata": {},
   "source": [
    "# Data cleaning"
   ]
  },
  {
   "cell_type": "markdown",
   "id": "d6e84fbc",
   "metadata": {},
   "source": [
    "#### Melihat Missing Values"
   ]
  },
  {
   "cell_type": "code",
   "execution_count": 8,
   "id": "03cf07ae",
   "metadata": {},
   "outputs": [
    {
     "data": {
      "text/plain": [
       "Date                 0\n",
       "Location             0\n",
       "MinTemp           1485\n",
       "MaxTemp           1261\n",
       "Rainfall          3261\n",
       "Evaporation      62790\n",
       "Sunshine         69835\n",
       "WindGustDir      10326\n",
       "WindGustSpeed    10263\n",
       "WindDir9am       10566\n",
       "WindDir3pm        4228\n",
       "WindSpeed9am      1767\n",
       "WindSpeed3pm      3062\n",
       "Humidity9am       2654\n",
       "Humidity3pm       4507\n",
       "Pressure9am      15065\n",
       "Pressure3pm      15028\n",
       "Cloud9am         55888\n",
       "Cloud3pm         59358\n",
       "Temp9am           1767\n",
       "Temp3pm           3609\n",
       "RainToday         3261\n",
       "RainTomorrow      3267\n",
       "dtype: int64"
      ]
     },
     "execution_count": 8,
     "metadata": {},
     "output_type": "execute_result"
    }
   ],
   "source": [
    "data.isna().sum()"
   ]
  },
  {
   "cell_type": "markdown",
   "id": "8695a1f2",
   "metadata": {},
   "source": [
    "#### Melihat Persentase Missing Values "
   ]
  },
  {
   "cell_type": "code",
   "execution_count": 9,
   "id": "86b9f437",
   "metadata": {},
   "outputs": [
    {
     "name": "stdout",
     "output_type": "stream",
     "text": [
      "MinTemp 0.010208992162793895\n",
      "MaxTemp 0.008669049910628352\n",
      "Rainfall 0.022418534304963565\n",
      "Evaporation 0.43166506256015397\n",
      "Sunshine 0.48009762133919975\n",
      "WindGustDir 0.0709885879279527\n",
      "WindGustSpeed 0.07055547916953114\n",
      "WindDir9am 0.07263852605527293\n",
      "WindDir3pm 0.02906641000962464\n",
      "WindSpeed9am 0.01214766946239516\n",
      "WindSpeed3pm 0.02105046060772721\n",
      "Humidity9am 0.018245565791282826\n",
      "Humidity3pm 0.0309844630826344\n",
      "Pressure9am 0.10356799120032999\n",
      "Pressure3pm 0.10331362573903478\n",
      "Cloud9am 0.3842155919153032\n",
      "Cloud3pm 0.40807094733947474\n",
      "Temp9am 0.01214766946239516\n",
      "Temp3pm 0.02481094458957789\n",
      "RainToday 0.022418534304963565\n",
      "RainTomorrow 0.02245978275814657\n"
     ]
    }
   ],
   "source": [
    "for var in data.columns:\n",
    "    if data[var].isnull().sum() > 0:\n",
    "        print(var, data[var].isnull().mean())"
   ]
  },
  {
   "cell_type": "markdown",
   "id": "7ffffb31",
   "metadata": {},
   "source": [
    "#### Mengisi Missing Values"
   ]
  },
  {
   "cell_type": "code",
   "execution_count": 10,
   "id": "2e05d162",
   "metadata": {},
   "outputs": [],
   "source": [
    "data['Sunshine'].fillna(data['Sunshine'].median(), inplace=True)\n",
    "data['Evaporation'].fillna(data['Evaporation'].median(), inplace=True)\n",
    "data['Cloud9am'].fillna(data['Cloud9am'].median(), inplace=True)\n",
    "data['Cloud3pm'].fillna(data['Cloud3pm'].median(), inplace=True)"
   ]
  },
  {
   "cell_type": "markdown",
   "id": "2a4a2416",
   "metadata": {},
   "source": [
    "mengisi missing values pada variabel 'Sunshine', 'Evaporation', 'Cloud9am', dan 'Cloud3pm' karena memiliki nilai persentase missing values yang signifikan"
   ]
  },
  {
   "cell_type": "code",
   "execution_count": 11,
   "id": "ed6b5eab",
   "metadata": {},
   "outputs": [],
   "source": [
    "data.dropna(inplace=True)"
   ]
  },
  {
   "cell_type": "markdown",
   "id": "96789acf",
   "metadata": {},
   "source": [
    "Menghilangkan rows missing values yang memiliki persentase tidak terlalu significant"
   ]
  },
  {
   "cell_type": "markdown",
   "id": "f244b2eb",
   "metadata": {},
   "source": [
    "#### Setelah menangani missing values"
   ]
  },
  {
   "cell_type": "code",
   "execution_count": 12,
   "id": "d77e65f5",
   "metadata": {},
   "outputs": [
    {
     "data": {
      "text/plain": [
       "Date             0\n",
       "Location         0\n",
       "MinTemp          0\n",
       "MaxTemp          0\n",
       "Rainfall         0\n",
       "Evaporation      0\n",
       "Sunshine         0\n",
       "WindGustDir      0\n",
       "WindGustSpeed    0\n",
       "WindDir9am       0\n",
       "WindDir3pm       0\n",
       "WindSpeed9am     0\n",
       "WindSpeed3pm     0\n",
       "Humidity9am      0\n",
       "Humidity3pm      0\n",
       "Pressure9am      0\n",
       "Pressure3pm      0\n",
       "Cloud9am         0\n",
       "Cloud3pm         0\n",
       "Temp9am          0\n",
       "Temp3pm          0\n",
       "RainToday        0\n",
       "RainTomorrow     0\n",
       "dtype: int64"
      ]
     },
     "execution_count": 12,
     "metadata": {},
     "output_type": "execute_result"
    }
   ],
   "source": [
    "data.isna().sum()"
   ]
  },
  {
   "cell_type": "markdown",
   "id": "f58b2fa2",
   "metadata": {},
   "source": [
    "# Explorasi Data Analysis"
   ]
  },
  {
   "cell_type": "code",
   "execution_count": 13,
   "id": "fe573fab",
   "metadata": {},
   "outputs": [
    {
     "data": {
      "image/png": "[encoded data removed]",
      "text/plain": [
       "<Figure size 1440x576 with 2 Axes>"
      ]
     },
     "metadata": {
      "needs_background": "light"
     },
     "output_type": "display_data"
    }
   ],
   "source": [
    "plt.figure(figsize=(20,8))\n",
    "sns.heatmap(data.corr(), annot=True);"
   ]
  },
  {
   "cell_type": "code",
   "execution_count": 14,
   "id": "bad00178",
   "metadata": {},
   "outputs": [
    {
     "data": {
      "image/png": "[encoded data removed]",
      "text/plain": [
       "<Figure size 432x288 with 1 Axes>"
      ]
     },
     "metadata": {
      "needs_background": "light"
     },
     "output_type": "display_data"
    }
   ],
   "source": [
    "sns.countplot(x='RainToday', hue='RainTomorrow', data=data);"
   ]
  },
  {
   "cell_type": "markdown",
   "id": "40d0e83f",
   "metadata": {},
   "source": [
    "dari visualisasi terlihat apabila hari ini hujan maka kemungkinan besok tidak hujan"
   ]
  },
  {
   "cell_type": "code",
   "execution_count": 15,
   "id": "0703786f",
   "metadata": {},
   "outputs": [
    {
     "data": {
      "image/png": "[encoded data removed]",
      "text/plain": [
       "<Figure size 1440x576 with 1 Axes>"
      ]
     },
     "metadata": {
      "needs_background": "light"
     },
     "output_type": "display_data"
    }
   ],
   "source": [
    "plt.figure(figsize=(20,8))\n",
    "sns.countplot(x='WindGustDir', hue='RainTomorrow', data=data);"
   ]
  },
  {
   "cell_type": "markdown",
   "id": "9b56acbe",
   "metadata": {},
   "source": [
    "# Data Preprocessing"
   ]
  },
  {
   "cell_type": "markdown",
   "id": "7c857609",
   "metadata": {},
   "source": [
    "#### Melakukan convert variabel RainTomorrow dari categorical menjadi numerical"
   ]
  },
  {
   "cell_type": "code",
   "execution_count": 16,
   "id": "91a040db",
   "metadata": {},
   "outputs": [
    {
     "data": {
      "text/plain": [
       "{'No': 0, 'Yes': 1}"
      ]
     },
     "execution_count": 16,
     "metadata": {},
     "output_type": "execute_result"
    }
   ],
   "source": [
    "ordinal_mapping = {\n",
    "    k: i\n",
    "    for i, k in enumerate(data['RainTomorrow'].unique(), 0)\n",
    "}\n",
    "\n",
    "ordinal_mapping"
   ]
  },
  {
   "cell_type": "code",
   "execution_count": 17,
   "id": "8dfd38ca",
   "metadata": {},
   "outputs": [],
   "source": [
    "data['RainTomorrow']= data['RainTomorrow'].map(ordinal_mapping)"
   ]
  },
  {
   "cell_type": "markdown",
   "id": "6cf566a3",
   "metadata": {},
   "source": [
    "#### Menghapus variabel Data"
   ]
  },
  {
   "cell_type": "code",
   "execution_count": 18,
   "id": "ac1e36db",
   "metadata": {},
   "outputs": [
    {
     "data": {
      "text/html": [
       "<div>\n",
       "<style scoped>\n",
       "    .dataframe tbody tr th:only-of-type {\n",
       "        vertical-align: middle;\n",
       "    }\n",
       "\n",
       "    .dataframe tbody tr th {\n",
       "        vertical-align: top;\n",
       "    }\n",
       "\n",
       "    .dataframe thead th {\n",
       "        text-align: right;\n",
       "    }\n",
       "</style>\n",
       "<table border=\"1\" class=\"dataframe\">\n",
       "  <thead>\n",
       "    <tr style=\"text-align: right;\">\n",
       "      <th></th>\n",
       "      <th>MinTemp</th>\n",
       "      <th>MaxTemp</th>\n",
       "      <th>Rainfall</th>\n",
       "      <th>Evaporation</th>\n",
       "      <th>Sunshine</th>\n",
       "      <th>WindGustDir</th>\n",
       "      <th>WindGustSpeed</th>\n",
       "      <th>Humidity9am</th>\n",
       "      <th>Humidity3pm</th>\n",
       "      <th>Pressure9am</th>\n",
       "      <th>Pressure3pm</th>\n",
       "      <th>Cloud9am</th>\n",
       "      <th>Cloud3pm</th>\n",
       "      <th>Temp9am</th>\n",
       "      <th>Temp3pm</th>\n",
       "      <th>RainToday</th>\n",
       "      <th>RainTomorrow</th>\n",
       "    </tr>\n",
       "  </thead>\n",
       "  <tbody>\n",
       "    <tr>\n",
       "      <th>0</th>\n",
       "      <td>13.4</td>\n",
       "      <td>22.9</td>\n",
       "      <td>0.6</td>\n",
       "      <td>4.8</td>\n",
       "      <td>8.4</td>\n",
       "      <td>W</td>\n",
       "      <td>44.0</td>\n",
       "      <td>71.0</td>\n",
       "      <td>22.0</td>\n",
       "      <td>1007.7</td>\n",
       "      <td>1007.1</td>\n",
       "      <td>8.0</td>\n",
       "      <td>5.0</td>\n",
       "      <td>16.9</td>\n",
       "      <td>21.8</td>\n",
       "      <td>No</td>\n",
       "      <td>0</td>\n",
       "    </tr>\n",
       "    <tr>\n",
       "      <th>1</th>\n",
       "      <td>7.4</td>\n",
       "      <td>25.1</td>\n",
       "      <td>0.0</td>\n",
       "      <td>4.8</td>\n",
       "      <td>8.4</td>\n",
       "      <td>WNW</td>\n",
       "      <td>44.0</td>\n",
       "      <td>44.0</td>\n",
       "      <td>25.0</td>\n",
       "      <td>1010.6</td>\n",
       "      <td>1007.8</td>\n",
       "      <td>5.0</td>\n",
       "      <td>5.0</td>\n",
       "      <td>17.2</td>\n",
       "      <td>24.3</td>\n",
       "      <td>No</td>\n",
       "      <td>0</td>\n",
       "    </tr>\n",
       "    <tr>\n",
       "      <th>2</th>\n",
       "      <td>12.9</td>\n",
       "      <td>25.7</td>\n",
       "      <td>0.0</td>\n",
       "      <td>4.8</td>\n",
       "      <td>8.4</td>\n",
       "      <td>WSW</td>\n",
       "      <td>46.0</td>\n",
       "      <td>38.0</td>\n",
       "      <td>30.0</td>\n",
       "      <td>1007.6</td>\n",
       "      <td>1008.7</td>\n",
       "      <td>5.0</td>\n",
       "      <td>2.0</td>\n",
       "      <td>21.0</td>\n",
       "      <td>23.2</td>\n",
       "      <td>No</td>\n",
       "      <td>0</td>\n",
       "    </tr>\n",
       "    <tr>\n",
       "      <th>3</th>\n",
       "      <td>9.2</td>\n",
       "      <td>28.0</td>\n",
       "      <td>0.0</td>\n",
       "      <td>4.8</td>\n",
       "      <td>8.4</td>\n",
       "      <td>NE</td>\n",
       "      <td>24.0</td>\n",
       "      <td>45.0</td>\n",
       "      <td>16.0</td>\n",
       "      <td>1017.6</td>\n",
       "      <td>1012.8</td>\n",
       "      <td>5.0</td>\n",
       "      <td>5.0</td>\n",
       "      <td>18.1</td>\n",
       "      <td>26.5</td>\n",
       "      <td>No</td>\n",
       "      <td>0</td>\n",
       "    </tr>\n",
       "    <tr>\n",
       "      <th>4</th>\n",
       "      <td>17.5</td>\n",
       "      <td>32.3</td>\n",
       "      <td>1.0</td>\n",
       "      <td>4.8</td>\n",
       "      <td>8.4</td>\n",
       "      <td>W</td>\n",
       "      <td>41.0</td>\n",
       "      <td>82.0</td>\n",
       "      <td>33.0</td>\n",
       "      <td>1010.8</td>\n",
       "      <td>1006.0</td>\n",
       "      <td>7.0</td>\n",
       "      <td>8.0</td>\n",
       "      <td>17.8</td>\n",
       "      <td>29.7</td>\n",
       "      <td>No</td>\n",
       "      <td>0</td>\n",
       "    </tr>\n",
       "  </tbody>\n",
       "</table>\n",
       "</div>"
      ],
      "text/plain": [
       "   MinTemp  MaxTemp  Rainfall  Evaporation  Sunshine WindGustDir  \\\n",
       "0     13.4     22.9       0.6          4.8       8.4           W   \n",
       "1      7.4     25.1       0.0          4.8       8.4         WNW   \n",
       "2     12.9     25.7       0.0          4.8       8.4         WSW   \n",
       "3      9.2     28.0       0.0          4.8       8.4          NE   \n",
       "4     17.5     32.3       1.0          4.8       8.4           W   \n",
       "\n",
       "   WindGustSpeed  Humidity9am  Humidity3pm  Pressure9am  Pressure3pm  \\\n",
       "0           44.0         71.0         22.0       1007.7       1007.1   \n",
       "1           44.0         44.0         25.0       1010.6       1007.8   \n",
       "2           46.0         38.0         30.0       1007.6       1008.7   \n",
       "3           24.0         45.0         16.0       1017.6       1012.8   \n",
       "4           41.0         82.0         33.0       1010.8       1006.0   \n",
       "\n",
       "   Cloud9am  Cloud3pm  Temp9am  Temp3pm RainToday  RainTomorrow  \n",
       "0       8.0       5.0     16.9     21.8        No             0  \n",
       "1       5.0       5.0     17.2     24.3        No             0  \n",
       "2       5.0       2.0     21.0     23.2        No             0  \n",
       "3       5.0       5.0     18.1     26.5        No             0  \n",
       "4       7.0       8.0     17.8     29.7        No             0  "
      ]
     },
     "execution_count": 18,
     "metadata": {},
     "output_type": "execute_result"
    }
   ],
   "source": [
    "col_drop = ['Date', 'Location', 'WindDir9am', 'WindDir3pm', 'WindSpeed9am', 'WindSpeed3pm']\n",
    "data.drop(col_drop, axis=1, inplace=True)\n",
    "data.head()"
   ]
  },
  {
   "cell_type": "markdown",
   "id": "a5952f4b",
   "metadata": {},
   "source": [
    "Menghapus data 'date' dan 'location' karena kemungkinan memiliki pengaruh yang kecil terhadap variabel RainTommorow\n"
   ]
  },
  {
   "cell_type": "markdown",
   "id": "be28f99f",
   "metadata": {},
   "source": [
    "Menghapus data 'WindDir9am', 'WindDir3pm', 'WindSpeed9am', 'WindSpeed3pm' karena telah ada variabel 'WindGustDir' dan 'WindGustSpeed'yang mewakili dan kemungkinan memiliki pengaruh terhadap variabel RainTommorow"
   ]
  },
  {
   "cell_type": "markdown",
   "id": "49542d3f",
   "metadata": {},
   "source": [
    "#### Melakukan proses get_dummies"
   ]
  },
  {
   "cell_type": "code",
   "execution_count": 19,
   "id": "7a112714",
   "metadata": {},
   "outputs": [
    {
     "data": {
      "text/html": [
       "<div>\n",
       "<style scoped>\n",
       "    .dataframe tbody tr th:only-of-type {\n",
       "        vertical-align: middle;\n",
       "    }\n",
       "\n",
       "    .dataframe tbody tr th {\n",
       "        vertical-align: top;\n",
       "    }\n",
       "\n",
       "    .dataframe thead th {\n",
       "        text-align: right;\n",
       "    }\n",
       "</style>\n",
       "<table border=\"1\" class=\"dataframe\">\n",
       "  <thead>\n",
       "    <tr style=\"text-align: right;\">\n",
       "      <th></th>\n",
       "      <th>MinTemp</th>\n",
       "      <th>MaxTemp</th>\n",
       "      <th>Rainfall</th>\n",
       "      <th>Evaporation</th>\n",
       "      <th>Sunshine</th>\n",
       "      <th>WindGustSpeed</th>\n",
       "      <th>Humidity9am</th>\n",
       "      <th>Humidity3pm</th>\n",
       "      <th>Pressure9am</th>\n",
       "      <th>Pressure3pm</th>\n",
       "      <th>...</th>\n",
       "      <th>WindGustDir_NW</th>\n",
       "      <th>WindGustDir_S</th>\n",
       "      <th>WindGustDir_SE</th>\n",
       "      <th>WindGustDir_SSE</th>\n",
       "      <th>WindGustDir_SSW</th>\n",
       "      <th>WindGustDir_SW</th>\n",
       "      <th>WindGustDir_W</th>\n",
       "      <th>WindGustDir_WNW</th>\n",
       "      <th>WindGustDir_WSW</th>\n",
       "      <th>RainToday_Yes</th>\n",
       "    </tr>\n",
       "  </thead>\n",
       "  <tbody>\n",
       "    <tr>\n",
       "      <th>0</th>\n",
       "      <td>13.4</td>\n",
       "      <td>22.9</td>\n",
       "      <td>0.6</td>\n",
       "      <td>4.8</td>\n",
       "      <td>8.4</td>\n",
       "      <td>44.0</td>\n",
       "      <td>71.0</td>\n",
       "      <td>22.0</td>\n",
       "      <td>1007.7</td>\n",
       "      <td>1007.1</td>\n",
       "      <td>...</td>\n",
       "      <td>0</td>\n",
       "      <td>0</td>\n",
       "      <td>0</td>\n",
       "      <td>0</td>\n",
       "      <td>0</td>\n",
       "      <td>0</td>\n",
       "      <td>1</td>\n",
       "      <td>0</td>\n",
       "      <td>0</td>\n",
       "      <td>0</td>\n",
       "    </tr>\n",
       "    <tr>\n",
       "      <th>1</th>\n",
       "      <td>7.4</td>\n",
       "      <td>25.1</td>\n",
       "      <td>0.0</td>\n",
       "      <td>4.8</td>\n",
       "      <td>8.4</td>\n",
       "      <td>44.0</td>\n",
       "      <td>44.0</td>\n",
       "      <td>25.0</td>\n",
       "      <td>1010.6</td>\n",
       "      <td>1007.8</td>\n",
       "      <td>...</td>\n",
       "      <td>0</td>\n",
       "      <td>0</td>\n",
       "      <td>0</td>\n",
       "      <td>0</td>\n",
       "      <td>0</td>\n",
       "      <td>0</td>\n",
       "      <td>0</td>\n",
       "      <td>1</td>\n",
       "      <td>0</td>\n",
       "      <td>0</td>\n",
       "    </tr>\n",
       "    <tr>\n",
       "      <th>2</th>\n",
       "      <td>12.9</td>\n",
       "      <td>25.7</td>\n",
       "      <td>0.0</td>\n",
       "      <td>4.8</td>\n",
       "      <td>8.4</td>\n",
       "      <td>46.0</td>\n",
       "      <td>38.0</td>\n",
       "      <td>30.0</td>\n",
       "      <td>1007.6</td>\n",
       "      <td>1008.7</td>\n",
       "      <td>...</td>\n",
       "      <td>0</td>\n",
       "      <td>0</td>\n",
       "      <td>0</td>\n",
       "      <td>0</td>\n",
       "      <td>0</td>\n",
       "      <td>0</td>\n",
       "      <td>0</td>\n",
       "      <td>0</td>\n",
       "      <td>1</td>\n",
       "      <td>0</td>\n",
       "    </tr>\n",
       "    <tr>\n",
       "      <th>3</th>\n",
       "      <td>9.2</td>\n",
       "      <td>28.0</td>\n",
       "      <td>0.0</td>\n",
       "      <td>4.8</td>\n",
       "      <td>8.4</td>\n",
       "      <td>24.0</td>\n",
       "      <td>45.0</td>\n",
       "      <td>16.0</td>\n",
       "      <td>1017.6</td>\n",
       "      <td>1012.8</td>\n",
       "      <td>...</td>\n",
       "      <td>0</td>\n",
       "      <td>0</td>\n",
       "      <td>0</td>\n",
       "      <td>0</td>\n",
       "      <td>0</td>\n",
       "      <td>0</td>\n",
       "      <td>0</td>\n",
       "      <td>0</td>\n",
       "      <td>0</td>\n",
       "      <td>0</td>\n",
       "    </tr>\n",
       "    <tr>\n",
       "      <th>4</th>\n",
       "      <td>17.5</td>\n",
       "      <td>32.3</td>\n",
       "      <td>1.0</td>\n",
       "      <td>4.8</td>\n",
       "      <td>8.4</td>\n",
       "      <td>41.0</td>\n",
       "      <td>82.0</td>\n",
       "      <td>33.0</td>\n",
       "      <td>1010.8</td>\n",
       "      <td>1006.0</td>\n",
       "      <td>...</td>\n",
       "      <td>0</td>\n",
       "      <td>0</td>\n",
       "      <td>0</td>\n",
       "      <td>0</td>\n",
       "      <td>0</td>\n",
       "      <td>0</td>\n",
       "      <td>1</td>\n",
       "      <td>0</td>\n",
       "      <td>0</td>\n",
       "      <td>0</td>\n",
       "    </tr>\n",
       "  </tbody>\n",
       "</table>\n",
       "<p>5 rows × 31 columns</p>\n",
       "</div>"
      ],
      "text/plain": [
       "   MinTemp  MaxTemp  Rainfall  Evaporation  Sunshine  WindGustSpeed  \\\n",
       "0     13.4     22.9       0.6          4.8       8.4           44.0   \n",
       "1      7.4     25.1       0.0          4.8       8.4           44.0   \n",
       "2     12.9     25.7       0.0          4.8       8.4           46.0   \n",
       "3      9.2     28.0       0.0          4.8       8.4           24.0   \n",
       "4     17.5     32.3       1.0          4.8       8.4           41.0   \n",
       "\n",
       "   Humidity9am  Humidity3pm  Pressure9am  Pressure3pm  ...  WindGustDir_NW  \\\n",
       "0         71.0         22.0       1007.7       1007.1  ...               0   \n",
       "1         44.0         25.0       1010.6       1007.8  ...               0   \n",
       "2         38.0         30.0       1007.6       1008.7  ...               0   \n",
       "3         45.0         16.0       1017.6       1012.8  ...               0   \n",
       "4         82.0         33.0       1010.8       1006.0  ...               0   \n",
       "\n",
       "   WindGustDir_S  WindGustDir_SE  WindGustDir_SSE  WindGustDir_SSW  \\\n",
       "0              0               0                0                0   \n",
       "1              0               0                0                0   \n",
       "2              0               0                0                0   \n",
       "3              0               0                0                0   \n",
       "4              0               0                0                0   \n",
       "\n",
       "   WindGustDir_SW  WindGustDir_W  WindGustDir_WNW  WindGustDir_WSW  \\\n",
       "0               0              1                0                0   \n",
       "1               0              0                1                0   \n",
       "2               0              0                0                1   \n",
       "3               0              0                0                0   \n",
       "4               0              1                0                0   \n",
       "\n",
       "   RainToday_Yes  \n",
       "0              0  \n",
       "1              0  \n",
       "2              0  \n",
       "3              0  \n",
       "4              0  \n",
       "\n",
       "[5 rows x 31 columns]"
      ]
     },
     "execution_count": 19,
     "metadata": {},
     "output_type": "execute_result"
    }
   ],
   "source": [
    "data = pd.get_dummies(data, drop_first=True)\n",
    "data.head()"
   ]
  },
  {
   "cell_type": "markdown",
   "id": "4cd67548",
   "metadata": {},
   "source": [
    "#### Melakukan Query data dengan melihat variabel yang memiliki corr positif terhadap RainTommorow"
   ]
  },
  {
   "cell_type": "code",
   "execution_count": 20,
   "id": "e9d3b1a2",
   "metadata": {},
   "outputs": [],
   "source": [
    "corr = data.corr()"
   ]
  },
  {
   "cell_type": "code",
   "execution_count": 21,
   "id": "0589f9e8",
   "metadata": {},
   "outputs": [
    {
     "data": {
      "text/html": [
       "<div>\n",
       "<style scoped>\n",
       "    .dataframe tbody tr th:only-of-type {\n",
       "        vertical-align: middle;\n",
       "    }\n",
       "\n",
       "    .dataframe tbody tr th {\n",
       "        vertical-align: top;\n",
       "    }\n",
       "\n",
       "    .dataframe thead th {\n",
       "        text-align: right;\n",
       "    }\n",
       "</style>\n",
       "<table border=\"1\" class=\"dataframe\">\n",
       "  <thead>\n",
       "    <tr style=\"text-align: right;\">\n",
       "      <th></th>\n",
       "      <th>MinTemp</th>\n",
       "      <th>MaxTemp</th>\n",
       "      <th>Rainfall</th>\n",
       "      <th>Evaporation</th>\n",
       "      <th>Sunshine</th>\n",
       "      <th>WindGustSpeed</th>\n",
       "      <th>Humidity9am</th>\n",
       "      <th>Humidity3pm</th>\n",
       "      <th>Pressure9am</th>\n",
       "      <th>Pressure3pm</th>\n",
       "      <th>...</th>\n",
       "      <th>WindGustDir_NW</th>\n",
       "      <th>WindGustDir_S</th>\n",
       "      <th>WindGustDir_SE</th>\n",
       "      <th>WindGustDir_SSE</th>\n",
       "      <th>WindGustDir_SSW</th>\n",
       "      <th>WindGustDir_SW</th>\n",
       "      <th>WindGustDir_W</th>\n",
       "      <th>WindGustDir_WNW</th>\n",
       "      <th>WindGustDir_WSW</th>\n",
       "      <th>RainToday_Yes</th>\n",
       "    </tr>\n",
       "  </thead>\n",
       "  <tbody>\n",
       "    <tr>\n",
       "      <th>MinTemp</th>\n",
       "      <td>1.000000</td>\n",
       "      <td>0.728942</td>\n",
       "      <td>0.103807</td>\n",
       "      <td>0.390911</td>\n",
       "      <td>0.047141</td>\n",
       "      <td>0.159176</td>\n",
       "      <td>-0.218312</td>\n",
       "      <td>0.026733</td>\n",
       "      <td>-0.433645</td>\n",
       "      <td>-0.448298</td>\n",
       "      <td>...</td>\n",
       "      <td>-0.064446</td>\n",
       "      <td>0.004734</td>\n",
       "      <td>0.076003</td>\n",
       "      <td>0.030753</td>\n",
       "      <td>-0.014462</td>\n",
       "      <td>-0.055320</td>\n",
       "      <td>-0.091334</td>\n",
       "      <td>-0.057823</td>\n",
       "      <td>-0.074534</td>\n",
       "      <td>0.044605</td>\n",
       "    </tr>\n",
       "    <tr>\n",
       "      <th>Rainfall</th>\n",
       "      <td>0.103807</td>\n",
       "      <td>-0.076825</td>\n",
       "      <td>1.000000</td>\n",
       "      <td>-0.052259</td>\n",
       "      <td>-0.185544</td>\n",
       "      <td>0.130388</td>\n",
       "      <td>0.238756</td>\n",
       "      <td>0.259652</td>\n",
       "      <td>-0.167595</td>\n",
       "      <td>-0.126520</td>\n",
       "      <td>...</td>\n",
       "      <td>-0.004117</td>\n",
       "      <td>0.028438</td>\n",
       "      <td>0.009252</td>\n",
       "      <td>0.010723</td>\n",
       "      <td>0.019204</td>\n",
       "      <td>0.009206</td>\n",
       "      <td>0.012897</td>\n",
       "      <td>0.006945</td>\n",
       "      <td>0.013403</td>\n",
       "      <td>0.497554</td>\n",
       "    </tr>\n",
       "    <tr>\n",
       "      <th>WindGustSpeed</th>\n",
       "      <td>0.159176</td>\n",
       "      <td>0.056742</td>\n",
       "      <td>0.130388</td>\n",
       "      <td>0.148275</td>\n",
       "      <td>-0.041013</td>\n",
       "      <td>1.000000</td>\n",
       "      <td>-0.183729</td>\n",
       "      <td>-0.020903</td>\n",
       "      <td>-0.445046</td>\n",
       "      <td>-0.399751</td>\n",
       "      <td>...</td>\n",
       "      <td>0.060627</td>\n",
       "      <td>0.013848</td>\n",
       "      <td>-0.033451</td>\n",
       "      <td>-0.017005</td>\n",
       "      <td>0.000300</td>\n",
       "      <td>-0.002085</td>\n",
       "      <td>0.082490</td>\n",
       "      <td>0.087630</td>\n",
       "      <td>0.041139</td>\n",
       "      <td>0.154943</td>\n",
       "    </tr>\n",
       "    <tr>\n",
       "      <th>Humidity9am</th>\n",
       "      <td>-0.218312</td>\n",
       "      <td>-0.517188</td>\n",
       "      <td>0.238756</td>\n",
       "      <td>-0.414253</td>\n",
       "      <td>-0.366930</td>\n",
       "      <td>-0.183729</td>\n",
       "      <td>1.000000</td>\n",
       "      <td>0.684373</td>\n",
       "      <td>0.115345</td>\n",
       "      <td>0.168052</td>\n",
       "      <td>...</td>\n",
       "      <td>0.011333</td>\n",
       "      <td>0.039939</td>\n",
       "      <td>-0.007423</td>\n",
       "      <td>0.010466</td>\n",
       "      <td>0.022606</td>\n",
       "      <td>0.001798</td>\n",
       "      <td>0.028409</td>\n",
       "      <td>0.015214</td>\n",
       "      <td>0.007287</td>\n",
       "      <td>0.378306</td>\n",
       "    </tr>\n",
       "    <tr>\n",
       "      <th>Humidity3pm</th>\n",
       "      <td>0.026733</td>\n",
       "      <td>-0.497679</td>\n",
       "      <td>0.259652</td>\n",
       "      <td>-0.323595</td>\n",
       "      <td>-0.466855</td>\n",
       "      <td>-0.020903</td>\n",
       "      <td>0.684373</td>\n",
       "      <td>1.000000</td>\n",
       "      <td>-0.035468</td>\n",
       "      <td>0.046073</td>\n",
       "      <td>...</td>\n",
       "      <td>-0.011555</td>\n",
       "      <td>0.059095</td>\n",
       "      <td>0.003596</td>\n",
       "      <td>0.020507</td>\n",
       "      <td>0.033813</td>\n",
       "      <td>-0.010147</td>\n",
       "      <td>0.007859</td>\n",
       "      <td>-0.002143</td>\n",
       "      <td>-0.007346</td>\n",
       "      <td>0.386619</td>\n",
       "    </tr>\n",
       "    <tr>\n",
       "      <th>Cloud9am</th>\n",
       "      <td>0.048982</td>\n",
       "      <td>-0.246815</td>\n",
       "      <td>0.172621</td>\n",
       "      <td>-0.184456</td>\n",
       "      <td>-0.531472</td>\n",
       "      <td>0.062989</td>\n",
       "      <td>0.380045</td>\n",
       "      <td>0.428576</td>\n",
       "      <td>-0.108868</td>\n",
       "      <td>-0.053717</td>\n",
       "      <td>...</td>\n",
       "      <td>0.016249</td>\n",
       "      <td>0.036323</td>\n",
       "      <td>-0.004894</td>\n",
       "      <td>0.015611</td>\n",
       "      <td>0.010400</td>\n",
       "      <td>-0.003757</td>\n",
       "      <td>0.029650</td>\n",
       "      <td>0.024248</td>\n",
       "      <td>0.014448</td>\n",
       "      <td>0.249351</td>\n",
       "    </tr>\n",
       "    <tr>\n",
       "      <th>Cloud3pm</th>\n",
       "      <td>0.000050</td>\n",
       "      <td>-0.239317</td>\n",
       "      <td>0.148862</td>\n",
       "      <td>-0.174099</td>\n",
       "      <td>-0.547500</td>\n",
       "      <td>0.092086</td>\n",
       "      <td>0.299407</td>\n",
       "      <td>0.428490</td>\n",
       "      <td>-0.115643</td>\n",
       "      <td>-0.065132</td>\n",
       "      <td>...</td>\n",
       "      <td>0.026282</td>\n",
       "      <td>0.018998</td>\n",
       "      <td>-0.012978</td>\n",
       "      <td>0.001796</td>\n",
       "      <td>-0.003948</td>\n",
       "      <td>-0.012355</td>\n",
       "      <td>0.039577</td>\n",
       "      <td>0.030629</td>\n",
       "      <td>0.019038</td>\n",
       "      <td>0.220022</td>\n",
       "    </tr>\n",
       "    <tr>\n",
       "      <th>RainTomorrow</th>\n",
       "      <td>0.078691</td>\n",
       "      <td>-0.168872</td>\n",
       "      <td>0.238379</td>\n",
       "      <td>-0.099108</td>\n",
       "      <td>-0.350212</td>\n",
       "      <td>0.238664</td>\n",
       "      <td>0.276704</td>\n",
       "      <td>0.455945</td>\n",
       "      <td>-0.243702</td>\n",
       "      <td>-0.224142</td>\n",
       "      <td>...</td>\n",
       "      <td>0.038276</td>\n",
       "      <td>0.001759</td>\n",
       "      <td>-0.022222</td>\n",
       "      <td>-0.018425</td>\n",
       "      <td>-0.003007</td>\n",
       "      <td>-0.014088</td>\n",
       "      <td>0.033711</td>\n",
       "      <td>0.041244</td>\n",
       "      <td>0.009495</td>\n",
       "      <td>0.315359</td>\n",
       "    </tr>\n",
       "    <tr>\n",
       "      <th>WindGustDir_N</th>\n",
       "      <td>-0.056677</td>\n",
       "      <td>-0.017593</td>\n",
       "      <td>-0.029143</td>\n",
       "      <td>-0.026288</td>\n",
       "      <td>-0.057582</td>\n",
       "      <td>0.036644</td>\n",
       "      <td>0.002780</td>\n",
       "      <td>-0.009059</td>\n",
       "      <td>0.001359</td>\n",
       "      <td>-0.037805</td>\n",
       "      <td>...</td>\n",
       "      <td>-0.066230</td>\n",
       "      <td>-0.073212</td>\n",
       "      <td>-0.075021</td>\n",
       "      <td>-0.073212</td>\n",
       "      <td>-0.071421</td>\n",
       "      <td>-0.072431</td>\n",
       "      <td>-0.076475</td>\n",
       "      <td>-0.068064</td>\n",
       "      <td>-0.072707</td>\n",
       "      <td>-0.042994</td>\n",
       "    </tr>\n",
       "    <tr>\n",
       "      <th>WindGustDir_NNE</th>\n",
       "      <td>0.042024</td>\n",
       "      <td>0.048958</td>\n",
       "      <td>-0.023449</td>\n",
       "      <td>-0.003251</td>\n",
       "      <td>0.003900</td>\n",
       "      <td>-0.031776</td>\n",
       "      <td>-0.003581</td>\n",
       "      <td>0.028064</td>\n",
       "      <td>0.022053</td>\n",
       "      <td>-0.017197</td>\n",
       "      <td>...</td>\n",
       "      <td>-0.055427</td>\n",
       "      <td>-0.061270</td>\n",
       "      <td>-0.062784</td>\n",
       "      <td>-0.061270</td>\n",
       "      <td>-0.059771</td>\n",
       "      <td>-0.060616</td>\n",
       "      <td>-0.064001</td>\n",
       "      <td>-0.056961</td>\n",
       "      <td>-0.060847</td>\n",
       "      <td>-0.045023</td>\n",
       "    </tr>\n",
       "    <tr>\n",
       "      <th>WindGustDir_NNW</th>\n",
       "      <td>-0.068492</td>\n",
       "      <td>-0.028916</td>\n",
       "      <td>-0.015201</td>\n",
       "      <td>-0.043164</td>\n",
       "      <td>-0.029251</td>\n",
       "      <td>0.015771</td>\n",
       "      <td>0.022225</td>\n",
       "      <td>-0.004693</td>\n",
       "      <td>-0.039891</td>\n",
       "      <td>-0.065992</td>\n",
       "      <td>...</td>\n",
       "      <td>-0.054055</td>\n",
       "      <td>-0.059753</td>\n",
       "      <td>-0.061230</td>\n",
       "      <td>-0.059753</td>\n",
       "      <td>-0.058291</td>\n",
       "      <td>-0.059115</td>\n",
       "      <td>-0.062416</td>\n",
       "      <td>-0.055551</td>\n",
       "      <td>-0.059341</td>\n",
       "      <td>-0.012700</td>\n",
       "    </tr>\n",
       "    <tr>\n",
       "      <th>WindGustDir_NW</th>\n",
       "      <td>-0.064446</td>\n",
       "      <td>-0.027820</td>\n",
       "      <td>-0.004117</td>\n",
       "      <td>-0.039768</td>\n",
       "      <td>-0.016856</td>\n",
       "      <td>0.060627</td>\n",
       "      <td>0.011333</td>\n",
       "      <td>-0.011555</td>\n",
       "      <td>-0.092056</td>\n",
       "      <td>-0.105271</td>\n",
       "      <td>...</td>\n",
       "      <td>1.000000</td>\n",
       "      <td>-0.066457</td>\n",
       "      <td>-0.068099</td>\n",
       "      <td>-0.066457</td>\n",
       "      <td>-0.064831</td>\n",
       "      <td>-0.065748</td>\n",
       "      <td>-0.069419</td>\n",
       "      <td>-0.061784</td>\n",
       "      <td>-0.065999</td>\n",
       "      <td>0.007735</td>\n",
       "    </tr>\n",
       "    <tr>\n",
       "      <th>WindGustDir_S</th>\n",
       "      <td>0.004734</td>\n",
       "      <td>-0.050493</td>\n",
       "      <td>0.028438</td>\n",
       "      <td>0.000004</td>\n",
       "      <td>-0.024269</td>\n",
       "      <td>0.013848</td>\n",
       "      <td>0.039939</td>\n",
       "      <td>0.059095</td>\n",
       "      <td>0.047640</td>\n",
       "      <td>0.081051</td>\n",
       "      <td>...</td>\n",
       "      <td>-0.066457</td>\n",
       "      <td>1.000000</td>\n",
       "      <td>-0.075278</td>\n",
       "      <td>-0.073462</td>\n",
       "      <td>-0.071665</td>\n",
       "      <td>-0.072678</td>\n",
       "      <td>-0.076737</td>\n",
       "      <td>-0.068297</td>\n",
       "      <td>-0.072956</td>\n",
       "      <td>0.035957</td>\n",
       "    </tr>\n",
       "    <tr>\n",
       "      <th>WindGustDir_W</th>\n",
       "      <td>-0.091334</td>\n",
       "      <td>-0.103502</td>\n",
       "      <td>0.012897</td>\n",
       "      <td>-0.050813</td>\n",
       "      <td>-0.033979</td>\n",
       "      <td>0.082490</td>\n",
       "      <td>0.028409</td>\n",
       "      <td>0.007859</td>\n",
       "      <td>-0.096487</td>\n",
       "      <td>-0.063427</td>\n",
       "      <td>...</td>\n",
       "      <td>-0.069419</td>\n",
       "      <td>-0.076737</td>\n",
       "      <td>-0.078633</td>\n",
       "      <td>-0.076737</td>\n",
       "      <td>-0.074860</td>\n",
       "      <td>-0.075918</td>\n",
       "      <td>1.000000</td>\n",
       "      <td>-0.071341</td>\n",
       "      <td>-0.076208</td>\n",
       "      <td>0.058884</td>\n",
       "    </tr>\n",
       "    <tr>\n",
       "      <th>WindGustDir_WNW</th>\n",
       "      <td>-0.057823</td>\n",
       "      <td>-0.052754</td>\n",
       "      <td>0.006945</td>\n",
       "      <td>-0.036725</td>\n",
       "      <td>-0.021727</td>\n",
       "      <td>0.087630</td>\n",
       "      <td>0.015214</td>\n",
       "      <td>-0.002143</td>\n",
       "      <td>-0.112870</td>\n",
       "      <td>-0.104783</td>\n",
       "      <td>...</td>\n",
       "      <td>-0.061784</td>\n",
       "      <td>-0.068297</td>\n",
       "      <td>-0.069984</td>\n",
       "      <td>-0.068297</td>\n",
       "      <td>-0.066626</td>\n",
       "      <td>-0.067568</td>\n",
       "      <td>-0.071341</td>\n",
       "      <td>1.000000</td>\n",
       "      <td>-0.067826</td>\n",
       "      <td>0.035407</td>\n",
       "    </tr>\n",
       "    <tr>\n",
       "      <th>WindGustDir_WSW</th>\n",
       "      <td>-0.074534</td>\n",
       "      <td>-0.080270</td>\n",
       "      <td>0.013403</td>\n",
       "      <td>-0.023450</td>\n",
       "      <td>-0.009391</td>\n",
       "      <td>0.041139</td>\n",
       "      <td>0.007287</td>\n",
       "      <td>-0.007346</td>\n",
       "      <td>-0.061381</td>\n",
       "      <td>-0.020731</td>\n",
       "      <td>...</td>\n",
       "      <td>-0.065999</td>\n",
       "      <td>-0.072956</td>\n",
       "      <td>-0.074759</td>\n",
       "      <td>-0.072956</td>\n",
       "      <td>-0.071171</td>\n",
       "      <td>-0.072178</td>\n",
       "      <td>-0.076208</td>\n",
       "      <td>-0.067826</td>\n",
       "      <td>1.000000</td>\n",
       "      <td>0.052086</td>\n",
       "    </tr>\n",
       "    <tr>\n",
       "      <th>RainToday_Yes</th>\n",
       "      <td>0.044605</td>\n",
       "      <td>-0.242983</td>\n",
       "      <td>0.497554</td>\n",
       "      <td>-0.156859</td>\n",
       "      <td>-0.252887</td>\n",
       "      <td>0.154943</td>\n",
       "      <td>0.378306</td>\n",
       "      <td>0.386619</td>\n",
       "      <td>-0.188677</td>\n",
       "      <td>-0.104902</td>\n",
       "      <td>...</td>\n",
       "      <td>0.007735</td>\n",
       "      <td>0.035957</td>\n",
       "      <td>-0.011996</td>\n",
       "      <td>0.005284</td>\n",
       "      <td>0.039862</td>\n",
       "      <td>0.039801</td>\n",
       "      <td>0.058884</td>\n",
       "      <td>0.035407</td>\n",
       "      <td>0.052086</td>\n",
       "      <td>1.000000</td>\n",
       "    </tr>\n",
       "  </tbody>\n",
       "</table>\n",
       "<p>17 rows × 31 columns</p>\n",
       "</div>"
      ],
      "text/plain": [
       "                  MinTemp   MaxTemp  Rainfall  Evaporation  Sunshine  \\\n",
       "MinTemp          1.000000  0.728942  0.103807     0.390911  0.047141   \n",
       "Rainfall         0.103807 -0.076825  1.000000    -0.052259 -0.185544   \n",
       "WindGustSpeed    0.159176  0.056742  0.130388     0.148275 -0.041013   \n",
       "Humidity9am     -0.218312 -0.517188  0.238756    -0.414253 -0.366930   \n",
       "Humidity3pm      0.026733 -0.497679  0.259652    -0.323595 -0.466855   \n",
       "Cloud9am         0.048982 -0.246815  0.172621    -0.184456 -0.531472   \n",
       "Cloud3pm         0.000050 -0.239317  0.148862    -0.174099 -0.547500   \n",
       "RainTomorrow     0.078691 -0.168872  0.238379    -0.099108 -0.350212   \n",
       "WindGustDir_N   -0.056677 -0.017593 -0.029143    -0.026288 -0.057582   \n",
       "WindGustDir_NNE  0.042024  0.048958 -0.023449    -0.003251  0.003900   \n",
       "WindGustDir_NNW -0.068492 -0.028916 -0.015201    -0.043164 -0.029251   \n",
       "WindGustDir_NW  -0.064446 -0.027820 -0.004117    -0.039768 -0.016856   \n",
       "WindGustDir_S    0.004734 -0.050493  0.028438     0.000004 -0.024269   \n",
       "WindGustDir_W   -0.091334 -0.103502  0.012897    -0.050813 -0.033979   \n",
       "WindGustDir_WNW -0.057823 -0.052754  0.006945    -0.036725 -0.021727   \n",
       "WindGustDir_WSW -0.074534 -0.080270  0.013403    -0.023450 -0.009391   \n",
       "RainToday_Yes    0.044605 -0.242983  0.497554    -0.156859 -0.252887   \n",
       "\n",
       "                 WindGustSpeed  Humidity9am  Humidity3pm  Pressure9am  \\\n",
       "MinTemp               0.159176    -0.218312     0.026733    -0.433645   \n",
       "Rainfall              0.130388     0.238756     0.259652    -0.167595   \n",
       "WindGustSpeed         1.000000    -0.183729    -0.020903    -0.445046   \n",
       "Humidity9am          -0.183729     1.000000     0.684373     0.115345   \n",
       "Humidity3pm          -0.020903     0.684373     1.000000    -0.035468   \n",
       "Cloud9am              0.062989     0.380045     0.428576    -0.108868   \n",
       "Cloud3pm              0.092086     0.299407     0.428490    -0.115643   \n",
       "RainTomorrow          0.238664     0.276704     0.455945    -0.243702   \n",
       "WindGustDir_N         0.036644     0.002780    -0.009059     0.001359   \n",
       "WindGustDir_NNE      -0.031776    -0.003581     0.028064     0.022053   \n",
       "WindGustDir_NNW       0.015771     0.022225    -0.004693    -0.039891   \n",
       "WindGustDir_NW        0.060627     0.011333    -0.011555    -0.092056   \n",
       "WindGustDir_S         0.013848     0.039939     0.059095     0.047640   \n",
       "WindGustDir_W         0.082490     0.028409     0.007859    -0.096487   \n",
       "WindGustDir_WNW       0.087630     0.015214    -0.002143    -0.112870   \n",
       "WindGustDir_WSW       0.041139     0.007287    -0.007346    -0.061381   \n",
       "RainToday_Yes         0.154943     0.378306     0.386619    -0.188677   \n",
       "\n",
       "                 Pressure3pm  ...  WindGustDir_NW  WindGustDir_S  \\\n",
       "MinTemp            -0.448298  ...       -0.064446       0.004734   \n",
       "Rainfall           -0.126520  ...       -0.004117       0.028438   \n",
       "WindGustSpeed      -0.399751  ...        0.060627       0.013848   \n",
       "Humidity9am         0.168052  ...        0.011333       0.039939   \n",
       "Humidity3pm         0.046073  ...       -0.011555       0.059095   \n",
       "Cloud9am           -0.053717  ...        0.016249       0.036323   \n",
       "Cloud3pm           -0.065132  ...        0.026282       0.018998   \n",
       "RainTomorrow       -0.224142  ...        0.038276       0.001759   \n",
       "WindGustDir_N      -0.037805  ...       -0.066230      -0.073212   \n",
       "WindGustDir_NNE    -0.017197  ...       -0.055427      -0.061270   \n",
       "WindGustDir_NNW    -0.065992  ...       -0.054055      -0.059753   \n",
       "WindGustDir_NW     -0.105271  ...        1.000000      -0.066457   \n",
       "WindGustDir_S       0.081051  ...       -0.066457       1.000000   \n",
       "WindGustDir_W      -0.063427  ...       -0.069419      -0.076737   \n",
       "WindGustDir_WNW    -0.104783  ...       -0.061784      -0.068297   \n",
       "WindGustDir_WSW    -0.020731  ...       -0.065999      -0.072956   \n",
       "RainToday_Yes      -0.104902  ...        0.007735       0.035957   \n",
       "\n",
       "                 WindGustDir_SE  WindGustDir_SSE  WindGustDir_SSW  \\\n",
       "MinTemp                0.076003         0.030753        -0.014462   \n",
       "Rainfall               0.009252         0.010723         0.019204   \n",
       "WindGustSpeed         -0.033451        -0.017005         0.000300   \n",
       "Humidity9am           -0.007423         0.010466         0.022606   \n",
       "Humidity3pm            0.003596         0.020507         0.033813   \n",
       "Cloud9am              -0.004894         0.015611         0.010400   \n",
       "Cloud3pm              -0.012978         0.001796        -0.003948   \n",
       "RainTomorrow          -0.022222        -0.018425        -0.003007   \n",
       "WindGustDir_N         -0.075021        -0.073212        -0.071421   \n",
       "WindGustDir_NNE       -0.062784        -0.061270        -0.059771   \n",
       "WindGustDir_NNW       -0.061230        -0.059753        -0.058291   \n",
       "WindGustDir_NW        -0.068099        -0.066457        -0.064831   \n",
       "WindGustDir_S         -0.075278        -0.073462        -0.071665   \n",
       "WindGustDir_W         -0.078633        -0.076737        -0.074860   \n",
       "WindGustDir_WNW       -0.069984        -0.068297        -0.066626   \n",
       "WindGustDir_WSW       -0.074759        -0.072956        -0.071171   \n",
       "RainToday_Yes         -0.011996         0.005284         0.039862   \n",
       "\n",
       "                 WindGustDir_SW  WindGustDir_W  WindGustDir_WNW  \\\n",
       "MinTemp               -0.055320      -0.091334        -0.057823   \n",
       "Rainfall               0.009206       0.012897         0.006945   \n",
       "WindGustSpeed         -0.002085       0.082490         0.087630   \n",
       "Humidity9am            0.001798       0.028409         0.015214   \n",
       "Humidity3pm           -0.010147       0.007859        -0.002143   \n",
       "Cloud9am              -0.003757       0.029650         0.024248   \n",
       "Cloud3pm              -0.012355       0.039577         0.030629   \n",
       "RainTomorrow          -0.014088       0.033711         0.041244   \n",
       "WindGustDir_N         -0.072431      -0.076475        -0.068064   \n",
       "WindGustDir_NNE       -0.060616      -0.064001        -0.056961   \n",
       "WindGustDir_NNW       -0.059115      -0.062416        -0.055551   \n",
       "WindGustDir_NW        -0.065748      -0.069419        -0.061784   \n",
       "WindGustDir_S         -0.072678      -0.076737        -0.068297   \n",
       "WindGustDir_W         -0.075918       1.000000        -0.071341   \n",
       "WindGustDir_WNW       -0.067568      -0.071341         1.000000   \n",
       "WindGustDir_WSW       -0.072178      -0.076208        -0.067826   \n",
       "RainToday_Yes          0.039801       0.058884         0.035407   \n",
       "\n",
       "                 WindGustDir_WSW  RainToday_Yes  \n",
       "MinTemp                -0.074534       0.044605  \n",
       "Rainfall                0.013403       0.497554  \n",
       "WindGustSpeed           0.041139       0.154943  \n",
       "Humidity9am             0.007287       0.378306  \n",
       "Humidity3pm            -0.007346       0.386619  \n",
       "Cloud9am                0.014448       0.249351  \n",
       "Cloud3pm                0.019038       0.220022  \n",
       "RainTomorrow            0.009495       0.315359  \n",
       "WindGustDir_N          -0.072707      -0.042994  \n",
       "WindGustDir_NNE        -0.060847      -0.045023  \n",
       "WindGustDir_NNW        -0.059341      -0.012700  \n",
       "WindGustDir_NW         -0.065999       0.007735  \n",
       "WindGustDir_S          -0.072956       0.035957  \n",
       "WindGustDir_W          -0.076208       0.058884  \n",
       "WindGustDir_WNW        -0.067826       0.035407  \n",
       "WindGustDir_WSW         1.000000       0.052086  \n",
       "RainToday_Yes           0.052086       1.000000  \n",
       "\n",
       "[17 rows x 31 columns]"
      ]
     },
     "execution_count": 21,
     "metadata": {},
     "output_type": "execute_result"
    }
   ],
   "source": [
    "corr = corr[corr['RainTomorrow'] > 0]\n",
    "corr"
   ]
  },
  {
   "cell_type": "markdown",
   "id": "61f92067",
   "metadata": {},
   "source": [
    "#### Memilih Data"
   ]
  },
  {
   "cell_type": "code",
   "execution_count": 22,
   "id": "585aa7bd",
   "metadata": {},
   "outputs": [
    {
     "data": {
      "text/html": [
       "<div>\n",
       "<style scoped>\n",
       "    .dataframe tbody tr th:only-of-type {\n",
       "        vertical-align: middle;\n",
       "    }\n",
       "\n",
       "    .dataframe tbody tr th {\n",
       "        vertical-align: top;\n",
       "    }\n",
       "\n",
       "    .dataframe thead th {\n",
       "        text-align: right;\n",
       "    }\n",
       "</style>\n",
       "<table border=\"1\" class=\"dataframe\">\n",
       "  <thead>\n",
       "    <tr style=\"text-align: right;\">\n",
       "      <th></th>\n",
       "      <th>MinTemp</th>\n",
       "      <th>Rainfall</th>\n",
       "      <th>WindGustSpeed</th>\n",
       "      <th>Humidity9am</th>\n",
       "      <th>Humidity3pm</th>\n",
       "      <th>Cloud9am</th>\n",
       "      <th>Cloud3pm</th>\n",
       "      <th>WindGustDir_N</th>\n",
       "      <th>WindGustDir_NNE</th>\n",
       "      <th>WindGustDir_NNW</th>\n",
       "      <th>WindGustDir_NW</th>\n",
       "      <th>WindGustDir_S</th>\n",
       "      <th>WindGustDir_W</th>\n",
       "      <th>WindGustDir_WNW</th>\n",
       "      <th>WindGustDir_WSW</th>\n",
       "      <th>RainToday_Yes</th>\n",
       "      <th>RainTomorrow</th>\n",
       "    </tr>\n",
       "  </thead>\n",
       "  <tbody>\n",
       "    <tr>\n",
       "      <th>0</th>\n",
       "      <td>13.4</td>\n",
       "      <td>0.6</td>\n",
       "      <td>44.0</td>\n",
       "      <td>71.0</td>\n",
       "      <td>22.0</td>\n",
       "      <td>8.0</td>\n",
       "      <td>5.0</td>\n",
       "      <td>0</td>\n",
       "      <td>0</td>\n",
       "      <td>0</td>\n",
       "      <td>0</td>\n",
       "      <td>0</td>\n",
       "      <td>1</td>\n",
       "      <td>0</td>\n",
       "      <td>0</td>\n",
       "      <td>0</td>\n",
       "      <td>0</td>\n",
       "    </tr>\n",
       "    <tr>\n",
       "      <th>1</th>\n",
       "      <td>7.4</td>\n",
       "      <td>0.0</td>\n",
       "      <td>44.0</td>\n",
       "      <td>44.0</td>\n",
       "      <td>25.0</td>\n",
       "      <td>5.0</td>\n",
       "      <td>5.0</td>\n",
       "      <td>0</td>\n",
       "      <td>0</td>\n",
       "      <td>0</td>\n",
       "      <td>0</td>\n",
       "      <td>0</td>\n",
       "      <td>0</td>\n",
       "      <td>1</td>\n",
       "      <td>0</td>\n",
       "      <td>0</td>\n",
       "      <td>0</td>\n",
       "    </tr>\n",
       "    <tr>\n",
       "      <th>2</th>\n",
       "      <td>12.9</td>\n",
       "      <td>0.0</td>\n",
       "      <td>46.0</td>\n",
       "      <td>38.0</td>\n",
       "      <td>30.0</td>\n",
       "      <td>5.0</td>\n",
       "      <td>2.0</td>\n",
       "      <td>0</td>\n",
       "      <td>0</td>\n",
       "      <td>0</td>\n",
       "      <td>0</td>\n",
       "      <td>0</td>\n",
       "      <td>0</td>\n",
       "      <td>0</td>\n",
       "      <td>1</td>\n",
       "      <td>0</td>\n",
       "      <td>0</td>\n",
       "    </tr>\n",
       "    <tr>\n",
       "      <th>3</th>\n",
       "      <td>9.2</td>\n",
       "      <td>0.0</td>\n",
       "      <td>24.0</td>\n",
       "      <td>45.0</td>\n",
       "      <td>16.0</td>\n",
       "      <td>5.0</td>\n",
       "      <td>5.0</td>\n",
       "      <td>0</td>\n",
       "      <td>0</td>\n",
       "      <td>0</td>\n",
       "      <td>0</td>\n",
       "      <td>0</td>\n",
       "      <td>0</td>\n",
       "      <td>0</td>\n",
       "      <td>0</td>\n",
       "      <td>0</td>\n",
       "      <td>0</td>\n",
       "    </tr>\n",
       "    <tr>\n",
       "      <th>4</th>\n",
       "      <td>17.5</td>\n",
       "      <td>1.0</td>\n",
       "      <td>41.0</td>\n",
       "      <td>82.0</td>\n",
       "      <td>33.0</td>\n",
       "      <td>7.0</td>\n",
       "      <td>8.0</td>\n",
       "      <td>0</td>\n",
       "      <td>0</td>\n",
       "      <td>0</td>\n",
       "      <td>0</td>\n",
       "      <td>0</td>\n",
       "      <td>1</td>\n",
       "      <td>0</td>\n",
       "      <td>0</td>\n",
       "      <td>0</td>\n",
       "      <td>0</td>\n",
       "    </tr>\n",
       "  </tbody>\n",
       "</table>\n",
       "</div>"
      ],
      "text/plain": [
       "   MinTemp  Rainfall  WindGustSpeed  Humidity9am  Humidity3pm  Cloud9am  \\\n",
       "0     13.4       0.6           44.0         71.0         22.0       8.0   \n",
       "1      7.4       0.0           44.0         44.0         25.0       5.0   \n",
       "2     12.9       0.0           46.0         38.0         30.0       5.0   \n",
       "3      9.2       0.0           24.0         45.0         16.0       5.0   \n",
       "4     17.5       1.0           41.0         82.0         33.0       7.0   \n",
       "\n",
       "   Cloud3pm  WindGustDir_N  WindGustDir_NNE  WindGustDir_NNW  WindGustDir_NW  \\\n",
       "0       5.0              0                0                0               0   \n",
       "1       5.0              0                0                0               0   \n",
       "2       2.0              0                0                0               0   \n",
       "3       5.0              0                0                0               0   \n",
       "4       8.0              0                0                0               0   \n",
       "\n",
       "   WindGustDir_S  WindGustDir_W  WindGustDir_WNW  WindGustDir_WSW  \\\n",
       "0              0              1                0                0   \n",
       "1              0              0                1                0   \n",
       "2              0              0                0                1   \n",
       "3              0              0                0                0   \n",
       "4              0              1                0                0   \n",
       "\n",
       "   RainToday_Yes  RainTomorrow  \n",
       "0              0             0  \n",
       "1              0             0  \n",
       "2              0             0  \n",
       "3              0             0  \n",
       "4              0             0  "
      ]
     },
     "execution_count": 22,
     "metadata": {},
     "output_type": "execute_result"
    }
   ],
   "source": [
    "col_to_use = ['MinTemp', 'Rainfall', 'WindGustSpeed', 'Humidity9am', 'Humidity3pm', 'Cloud9am', 'Cloud3pm', 'WindGustDir_N', 'WindGustDir_NNE', 'WindGustDir_NNW', 'WindGustDir_NW','WindGustDir_S','WindGustDir_W', 'WindGustDir_WNW', 'WindGustDir_WSW', 'RainToday_Yes', 'RainTomorrow' ]\n",
    "data = data[col_to_use]\n",
    "data.head()"
   ]
  },
  {
   "cell_type": "markdown",
   "id": "03ab13a5",
   "metadata": {},
   "source": [
    "#### Visualisasi Correlation data terpilih"
   ]
  },
  {
   "cell_type": "code",
   "execution_count": 23,
   "id": "4bb74804",
   "metadata": {},
   "outputs": [
    {
     "data": {
      "image/png": "[encoded data removed]",
      "text/plain": [
       "<Figure size 1440x576 with 2 Axes>"
      ]
     },
     "metadata": {
      "needs_background": "light"
     },
     "output_type": "display_data"
    }
   ],
   "source": [
    "plt.figure(figsize=(20,8))\n",
    "sns.heatmap(data.corr(), annot=True);"
   ]
  },
  {
   "cell_type": "markdown",
   "id": "0fcc00df",
   "metadata": {},
   "source": [
    "# Pendefinisian dan Pelatihan Model"
   ]
  },
  {
   "cell_type": "markdown",
   "id": "df499598",
   "metadata": {},
   "source": [
    "#### Import Pustaka"
   ]
  },
  {
   "cell_type": "code",
   "execution_count": 24,
   "id": "8a6dfa04",
   "metadata": {},
   "outputs": [],
   "source": [
    "from sklearn.linear_model import LogisticRegression\n",
    "from sklearn.svm import SVC\n",
    "from sklearn.preprocessing import StandardScaler\n",
    "from sklearn.model_selection import train_test_split "
   ]
  },
  {
   "cell_type": "markdown",
   "id": "11850e29",
   "metadata": {},
   "source": [
    "#### Membuat Variabel Independent(X) dan Variabel Dependent(y)"
   ]
  },
  {
   "cell_type": "code",
   "execution_count": 25,
   "id": "40869707",
   "metadata": {},
   "outputs": [],
   "source": [
    "X = data.drop('RainTomorrow', axis=1)\n",
    "y = data['RainTomorrow']"
   ]
  },
  {
   "cell_type": "markdown",
   "id": "de25712a",
   "metadata": {},
   "source": [
    "#### Melakukan Split data"
   ]
  },
  {
   "cell_type": "code",
   "execution_count": 26,
   "id": "8683db55",
   "metadata": {},
   "outputs": [],
   "source": [
    "X_train, X_test, y_train, y_test = train_test_split(X, y, test_size=0.3, random_state=42)"
   ]
  },
  {
   "cell_type": "markdown",
   "id": "4c3c126c",
   "metadata": {},
   "source": [
    "melakukan split data menjadi data training 0.7 dan data test 0.3"
   ]
  },
  {
   "cell_type": "markdown",
   "id": "079c1e97",
   "metadata": {},
   "source": [
    "#### Melakukan Regularisasi data"
   ]
  },
  {
   "cell_type": "code",
   "execution_count": 27,
   "id": "95eb8402",
   "metadata": {},
   "outputs": [],
   "source": [
    "scaler = StandardScaler()\n",
    "scaler.fit(X_train)\n",
    "X_train_trf = scaler.transform(X_train)\n",
    "X_test_trf = scaler.transform(X_test)"
   ]
  },
  {
   "cell_type": "markdown",
   "id": "c55408f6",
   "metadata": {},
   "source": [
    "#### Mendefinisikan dan Pelatihan model Logistic Regression"
   ]
  },
  {
   "cell_type": "code",
   "execution_count": 28,
   "id": "04ad6ea5",
   "metadata": {},
   "outputs": [
    {
     "name": "stdout",
     "output_type": "stream",
     "text": [
      "CPU times: user 342 ms, sys: 9.55 ms, total: 352 ms\n",
      "Wall time: 278 ms\n"
     ]
    },
    {
     "data": {
      "text/plain": [
       "LogisticRegression(random_state=42)"
      ]
     },
     "execution_count": 28,
     "metadata": {},
     "output_type": "execute_result"
    }
   ],
   "source": [
    "logistic_reg = LogisticRegression(solver=\"lbfgs\", random_state=42)\n",
    "\n",
    "%time logistic_reg.fit(X_train_trf , y_train)"
   ]
  },
  {
   "cell_type": "markdown",
   "id": "a897d9dd",
   "metadata": {},
   "source": [
    "#### Mendefinisikan dan Pelatihan  model SVC Linear"
   ]
  },
  {
   "cell_type": "code",
   "execution_count": 29,
   "id": "d2997514",
   "metadata": {},
   "outputs": [
    {
     "name": "stdout",
     "output_type": "stream",
     "text": [
      "CPU times: user 8min 26s, sys: 4.21 s, total: 8min 30s\n",
      "Wall time: 9min 19s\n"
     ]
    },
    {
     "data": {
      "text/plain": [
       "SVC(C=1, kernel='linear', random_state=42)"
      ]
     },
     "execution_count": 29,
     "metadata": {},
     "output_type": "execute_result"
    }
   ],
   "source": [
    "svc_linear = SVC(kernel='linear', random_state=42, C=1)\n",
    "\n",
    "%time svc_linear.fit(X_train_trf , y_train)"
   ]
  },
  {
   "cell_type": "markdown",
   "id": "8078f884",
   "metadata": {},
   "source": [
    "#### Mendefinisikan dan Pelatihan  model SVC RBF 1"
   ]
  },
  {
   "cell_type": "code",
   "execution_count": 30,
   "id": "b1dc5ef5",
   "metadata": {},
   "outputs": [
    {
     "name": "stdout",
     "output_type": "stream",
     "text": [
      "CPU times: user 7min 37s, sys: 5.01 s, total: 7min 42s\n",
      "Wall time: 8min 29s\n"
     ]
    },
    {
     "data": {
      "text/plain": [
       "SVC(C=1, random_state=42)"
      ]
     },
     "execution_count": 30,
     "metadata": {},
     "output_type": "execute_result"
    }
   ],
   "source": [
    "svc_rbf_1 = SVC(kernel='rbf', random_state=42, C=1)\n",
    "\n",
    "%time svc_rbf_1.fit(X_train_trf , y_train)"
   ]
  },
  {
   "cell_type": "markdown",
   "id": "6db95cf8",
   "metadata": {},
   "source": [
    "#### Mendefinisikan dan Pelatihan model SVC RBF 2"
   ]
  },
  {
   "cell_type": "code",
   "execution_count": 31,
   "id": "28303381",
   "metadata": {},
   "outputs": [
    {
     "name": "stdout",
     "output_type": "stream",
     "text": [
      "CPU times: user 5min 50s, sys: 2.12 s, total: 5min 52s\n",
      "Wall time: 5min 54s\n"
     ]
    },
    {
     "data": {
      "text/plain": [
       "SVC(C=0.1, random_state=42)"
      ]
     },
     "execution_count": 31,
     "metadata": {},
     "output_type": "execute_result"
    }
   ],
   "source": [
    "svc_rbf_2 = SVC(kernel='rbf', random_state=42, C=0.1)\n",
    "\n",
    "%time svc_rbf_2.fit(X_train_trf , y_train)"
   ]
  },
  {
   "cell_type": "markdown",
   "id": "f4ffcee0",
   "metadata": {},
   "source": [
    "#### Mendefinisikan dan Pelatihan  model SVC RBF 3"
   ]
  },
  {
   "cell_type": "code",
   "execution_count": 32,
   "id": "ab756d66",
   "metadata": {},
   "outputs": [
    {
     "name": "stdout",
     "output_type": "stream",
     "text": [
      "CPU times: user 21min 59s, sys: 7.33 s, total: 22min 7s\n",
      "Wall time: 22min 28s\n"
     ]
    },
    {
     "data": {
      "text/plain": [
       "SVC(C=20, random_state=42)"
      ]
     },
     "execution_count": 32,
     "metadata": {},
     "output_type": "execute_result"
    }
   ],
   "source": [
    "svc_rbf_3 = SVC(kernel='rbf', random_state=42, C=20)\n",
    "\n",
    "%time svc_rbf_3.fit(X_train_trf , y_train)"
   ]
  },
  {
   "cell_type": "markdown",
   "id": "5c220182",
   "metadata": {},
   "source": [
    "#### Mendefinisikan dan Pelatihan model SVC poly"
   ]
  },
  {
   "cell_type": "code",
   "execution_count": 33,
   "id": "d7932199",
   "metadata": {},
   "outputs": [
    {
     "name": "stdout",
     "output_type": "stream",
     "text": [
      "CPU times: user 11min 6s, sys: 3.68 s, total: 11min 9s\n",
      "Wall time: 11min 12s\n"
     ]
    },
    {
     "data": {
      "text/plain": [
       "SVC(C=1, degree=4, kernel='poly', random_state=42)"
      ]
     },
     "execution_count": 33,
     "metadata": {},
     "output_type": "execute_result"
    }
   ],
   "source": [
    "svc_poly = SVC(kernel='poly', degree=4 , random_state=42, C=1)\n",
    "\n",
    "%time svc_poly.fit(X_train_trf , y_train)"
   ]
  },
  {
   "cell_type": "markdown",
   "id": "8563bf87",
   "metadata": {},
   "source": [
    "# Evaluasi Model"
   ]
  },
  {
   "cell_type": "code",
   "execution_count": 34,
   "id": "fe055e53",
   "metadata": {},
   "outputs": [],
   "source": [
    "from sklearn.metrics import confusion_matrix\n",
    "from sklearn.metrics import classification_report\n",
    "from sklearn.metrics import roc_curve,auc\n",
    "from sklearn.metrics import roc_auc_score"
   ]
  },
  {
   "cell_type": "markdown",
   "id": "971411c6",
   "metadata": {},
   "source": [
    "#### Evaluasi Model Logistic Regression"
   ]
  },
  {
   "cell_type": "code",
   "execution_count": 35,
   "id": "e27871f0",
   "metadata": {},
   "outputs": [
    {
     "name": "stdout",
     "output_type": "stream",
     "text": [
      "CPU times: user 4.63 ms, sys: 1.68 ms, total: 6.31 ms\n",
      "Wall time: 6.97 ms\n"
     ]
    }
   ],
   "source": [
    "%time y_preds_log = logistic_reg.predict(X_test_trf)"
   ]
  },
  {
   "cell_type": "code",
   "execution_count": 36,
   "id": "a62a5b2c",
   "metadata": {},
   "outputs": [
    {
     "name": "stdout",
     "output_type": "stream",
     "text": [
      "              precision    recall  f1-score   support\n",
      "\n",
      "           0       0.86      0.95      0.90     26252\n",
      "           1       0.72      0.49      0.58      7626\n",
      "\n",
      "    accuracy                           0.84     33878\n",
      "   macro avg       0.79      0.72      0.74     33878\n",
      "weighted avg       0.83      0.84      0.83     33878\n",
      "\n"
     ]
    }
   ],
   "source": [
    "print(classification_report(y_test, y_preds_log))"
   ]
  },
  {
   "cell_type": "code",
   "execution_count": 37,
   "id": "38f0c508",
   "metadata": {},
   "outputs": [
    {
     "data": {
      "text/plain": [
       "array([[24831,  1421],\n",
       "       [ 3924,  3702]])"
      ]
     },
     "execution_count": 37,
     "metadata": {},
     "output_type": "execute_result"
    }
   ],
   "source": [
    "confusion_matrix(y_test, y_preds_log)"
   ]
  },
  {
   "cell_type": "markdown",
   "id": "15c9a038",
   "metadata": {},
   "source": [
    "#### Evaluasi Model SVC Linear"
   ]
  },
  {
   "cell_type": "code",
   "execution_count": 38,
   "id": "fd5df40c",
   "metadata": {},
   "outputs": [
    {
     "name": "stdout",
     "output_type": "stream",
     "text": [
      "CPU times: user 59.6 s, sys: 334 ms, total: 59.9 s\n",
      "Wall time: 1min\n"
     ]
    }
   ],
   "source": [
    "%time y_preds_lin = svc_linear.predict(X_test_trf)"
   ]
  },
  {
   "cell_type": "code",
   "execution_count": 39,
   "id": "f735fbed",
   "metadata": {},
   "outputs": [
    {
     "name": "stdout",
     "output_type": "stream",
     "text": [
      "              precision    recall  f1-score   support\n",
      "\n",
      "           0       0.86      0.96      0.90     26252\n",
      "           1       0.75      0.45      0.56      7626\n",
      "\n",
      "    accuracy                           0.84     33878\n",
      "   macro avg       0.80      0.70      0.73     33878\n",
      "weighted avg       0.83      0.84      0.83     33878\n",
      "\n"
     ]
    }
   ],
   "source": [
    "print(classification_report(y_test, y_preds_lin))"
   ]
  },
  {
   "cell_type": "code",
   "execution_count": 40,
   "id": "222934e8",
   "metadata": {},
   "outputs": [
    {
     "data": {
      "text/plain": [
       "array([[25073,  1179],\n",
       "       [ 4171,  3455]])"
      ]
     },
     "execution_count": 40,
     "metadata": {},
     "output_type": "execute_result"
    }
   ],
   "source": [
    "confusion_matrix(y_test, y_preds_lin)"
   ]
  },
  {
   "cell_type": "markdown",
   "id": "d243656b",
   "metadata": {},
   "source": [
    "#### Evaluasi Model SVC RBF 1"
   ]
  },
  {
   "cell_type": "code",
   "execution_count": 41,
   "id": "36fd9f95",
   "metadata": {},
   "outputs": [
    {
     "name": "stdout",
     "output_type": "stream",
     "text": [
      "CPU times: user 4min 10s, sys: 1.87 s, total: 4min 12s\n",
      "Wall time: 4min 49s\n"
     ]
    }
   ],
   "source": [
    "%time y_preds_rbf1 = svc_rbf_1.predict(X_test_trf)"
   ]
  },
  {
   "cell_type": "code",
   "execution_count": 42,
   "id": "4a89b73f",
   "metadata": {},
   "outputs": [
    {
     "name": "stdout",
     "output_type": "stream",
     "text": [
      "              precision    recall  f1-score   support\n",
      "\n",
      "           0       0.85      0.97      0.91     26252\n",
      "           1       0.79      0.43      0.55      7626\n",
      "\n",
      "    accuracy                           0.85     33878\n",
      "   macro avg       0.82      0.70      0.73     33878\n",
      "weighted avg       0.84      0.85      0.83     33878\n",
      "\n"
     ]
    }
   ],
   "source": [
    "print(classification_report(y_test, y_preds_rbf1))"
   ]
  },
  {
   "cell_type": "code",
   "execution_count": 43,
   "id": "b78b0ae3",
   "metadata": {},
   "outputs": [
    {
     "data": {
      "text/plain": [
       "array([[25372,   880],\n",
       "       [ 4367,  3259]])"
      ]
     },
     "execution_count": 43,
     "metadata": {},
     "output_type": "execute_result"
    }
   ],
   "source": [
    "confusion_matrix(y_test, y_preds_rbf1)"
   ]
  },
  {
   "cell_type": "markdown",
   "id": "b3a1f932",
   "metadata": {},
   "source": [
    "#### Evaluasi Model SVC RBF 2"
   ]
  },
  {
   "cell_type": "code",
   "execution_count": 44,
   "id": "2ceb4b2b",
   "metadata": {},
   "outputs": [
    {
     "name": "stdout",
     "output_type": "stream",
     "text": [
      "CPU times: user 4min 22s, sys: 1.3 s, total: 4min 23s\n",
      "Wall time: 4min 36s\n"
     ]
    }
   ],
   "source": [
    "%time y_preds_rbf2 = svc_rbf_2.predict(X_test_trf)"
   ]
  },
  {
   "cell_type": "code",
   "execution_count": 45,
   "id": "2513df64",
   "metadata": {},
   "outputs": [
    {
     "name": "stdout",
     "output_type": "stream",
     "text": [
      "              precision    recall  f1-score   support\n",
      "\n",
      "           0       0.85      0.97      0.90     26252\n",
      "           1       0.78      0.41      0.54      7626\n",
      "\n",
      "    accuracy                           0.84     33878\n",
      "   macro avg       0.82      0.69      0.72     33878\n",
      "weighted avg       0.83      0.84      0.82     33878\n",
      "\n"
     ]
    }
   ],
   "source": [
    "print(classification_report(y_test, y_preds_rbf2))"
   ]
  },
  {
   "cell_type": "code",
   "execution_count": 46,
   "id": "95377daf",
   "metadata": {},
   "outputs": [
    {
     "data": {
      "text/plain": [
       "array([[25385,   867],\n",
       "       [ 4487,  3139]])"
      ]
     },
     "execution_count": 46,
     "metadata": {},
     "output_type": "execute_result"
    }
   ],
   "source": [
    "confusion_matrix(y_test, y_preds_rbf2)"
   ]
  },
  {
   "cell_type": "markdown",
   "id": "32857336",
   "metadata": {},
   "source": [
    "#### Evaluasi Model SVC RBF 3"
   ]
  },
  {
   "cell_type": "code",
   "execution_count": 47,
   "id": "5120d289",
   "metadata": {},
   "outputs": [
    {
     "name": "stdout",
     "output_type": "stream",
     "text": [
      "CPU times: user 4min 1s, sys: 611 ms, total: 4min 1s\n",
      "Wall time: 4min 2s\n"
     ]
    }
   ],
   "source": [
    "%time y_preds_rbf3 = svc_rbf_3.predict(X_test_trf)"
   ]
  },
  {
   "cell_type": "code",
   "execution_count": 48,
   "id": "a7a3b5f0",
   "metadata": {},
   "outputs": [
    {
     "name": "stdout",
     "output_type": "stream",
     "text": [
      "              precision    recall  f1-score   support\n",
      "\n",
      "           0       0.86      0.96      0.91     26252\n",
      "           1       0.77      0.44      0.56      7626\n",
      "\n",
      "    accuracy                           0.84     33878\n",
      "   macro avg       0.81      0.70      0.73     33878\n",
      "weighted avg       0.84      0.84      0.83     33878\n",
      "\n"
     ]
    }
   ],
   "source": [
    "print(classification_report(y_test, y_preds_rbf3))"
   ]
  },
  {
   "cell_type": "code",
   "execution_count": 49,
   "id": "1fc22876",
   "metadata": {},
   "outputs": [
    {
     "data": {
      "text/plain": [
       "array([[25222,  1030],\n",
       "       [ 4261,  3365]])"
      ]
     },
     "execution_count": 49,
     "metadata": {},
     "output_type": "execute_result"
    }
   ],
   "source": [
    "confusion_matrix(y_test, y_preds_rbf3)"
   ]
  },
  {
   "cell_type": "markdown",
   "id": "aa52fd3a",
   "metadata": {},
   "source": [
    "#### Evaluasi Model SVC poly"
   ]
  },
  {
   "cell_type": "code",
   "execution_count": 50,
   "id": "510646e4",
   "metadata": {},
   "outputs": [
    {
     "name": "stdout",
     "output_type": "stream",
     "text": [
      "CPU times: user 1min 9s, sys: 333 ms, total: 1min 10s\n",
      "Wall time: 1min 10s\n"
     ]
    }
   ],
   "source": [
    "%time y_preds_poly = svc_poly.predict(X_test_trf)"
   ]
  },
  {
   "cell_type": "code",
   "execution_count": 51,
   "id": "3783663a",
   "metadata": {},
   "outputs": [
    {
     "name": "stdout",
     "output_type": "stream",
     "text": [
      "              precision    recall  f1-score   support\n",
      "\n",
      "           0       0.85      0.96      0.90     26252\n",
      "           1       0.77      0.42      0.54      7626\n",
      "\n",
      "    accuracy                           0.84     33878\n",
      "   macro avg       0.81      0.69      0.72     33878\n",
      "weighted avg       0.83      0.84      0.82     33878\n",
      "\n"
     ]
    }
   ],
   "source": [
    "print(classification_report(y_test, y_preds_poly))"
   ]
  },
  {
   "cell_type": "code",
   "execution_count": 52,
   "id": "f9f1ed73",
   "metadata": {},
   "outputs": [
    {
     "data": {
      "text/plain": [
       "array([[25303,   949],\n",
       "       [ 4424,  3202]])"
      ]
     },
     "execution_count": 52,
     "metadata": {},
     "output_type": "execute_result"
    }
   ],
   "source": [
    "confusion_matrix(y_test, y_preds_poly)"
   ]
  },
  {
   "cell_type": "markdown",
   "id": "582cb0be",
   "metadata": {},
   "source": [
    "#### ROC Curve"
   ]
  },
  {
   "cell_type": "code",
   "execution_count": 53,
   "id": "d4808dc3",
   "metadata": {},
   "outputs": [],
   "source": [
    "def plot_roc_curve(fpr, tpr, label=None):\n",
    "    plt.plot(fpr, tpr, linewidth=2, label=label)\n",
    "    plt.plot([0, 1], [0, 1], 'k--') \n",
    "    plt.axis([0, 1, 0, 1])                                    \n",
    "    plt.xlabel('False Positive Rate (Fall-Out)', fontsize=16) \n",
    "    plt.ylabel('True Positive Rate (Recall)', fontsize=16)    \n",
    "    plt.grid(True)"
   ]
  },
  {
   "cell_type": "code",
   "execution_count": 54,
   "id": "709dd393",
   "metadata": {},
   "outputs": [
    {
     "data": {
      "image/png": "[encoded data removed]",
      "text/plain": [
       "<Figure size 576x432 with 1 Axes>"
      ]
     },
     "metadata": {
      "needs_background": "light"
     },
     "output_type": "display_data"
    }
   ],
   "source": [
    "plt.figure(figsize=(8, 6))                                    \n",
    "plt.axis([0, 1, 0, 1])                                    \n",
    "plt.xlabel('False Positive Rate (Fall-Out)', fontsize=16) \n",
    "plt.ylabel('True Positive Rate (Recall)', fontsize=16)    \n",
    "plt.grid(True)                                            \n",
    "plt.plot([0, 1], [0, 1], 'k--') # dashed diagonal\n",
    "labels=['LogReg', 'SVM', 'SVM C=1', 'SVM C=0.1', 'SVM C=20', 'SVM Poly']\n",
    "for idx,model in enumerate([logistic_reg,svc_linear, svc_rbf_1, svc_rbf_2, svc_rbf_3, svc_poly ]):\n",
    "    y_scores = model.decision_function(X_test_trf)\n",
    "    fpr, tpr, thresholds = roc_curve(y_test, y_scores)\n",
    "    roc_auc = auc(fpr, tpr)\n",
    "    plt.plot(fpr, tpr, linewidth=2,label=labels[idx] + ' ROC curve (area = %0.2f)' % roc_auc)\n",
    "plt.legend(loc=\"lower right\");"
   ]
  },
  {
   "cell_type": "markdown",
   "id": "7f2693a3",
   "metadata": {},
   "source": [
    "# Model Inference"
   ]
  },
  {
   "cell_type": "markdown",
   "id": "6b07f16d",
   "metadata": {},
   "source": [
    "#### Membuat data baru"
   ]
  },
  {
   "cell_type": "code",
   "execution_count": 58,
   "id": "c11262f3",
   "metadata": {},
   "outputs": [
    {
     "data": {
      "text/plain": [
       "[[7.1, 2.0, 85.0, 75.0, 53.0, 3.0, 5.0, 0, 0, 0, 0, 0, 1, 0, 0, 1]]"
      ]
     },
     "execution_count": 58,
     "metadata": {},
     "output_type": "execute_result"
    }
   ],
   "source": [
    "data_dummies = [[7.1, 2.0, 85.0, 75.0, 53.0, 3.0, 5.0, 0, 0, 0, 0, 0, 1, 0, 0, 1]]\n",
    "data_dummies"
   ]
  },
  {
   "cell_type": "code",
   "execution_count": 60,
   "id": "40148781",
   "metadata": {},
   "outputs": [
    {
     "data": {
      "text/plain": [
       "array([1])"
      ]
     },
     "execution_count": 60,
     "metadata": {},
     "output_type": "execute_result"
    }
   ],
   "source": [
    "prediction = logistic_reg.predict(data_dummies)\n",
    "prediction"
   ]
  },
  {
   "cell_type": "markdown",
   "id": "1c758936",
   "metadata": {},
   "source": [
    "Dari hasil prediksi dengan menggunakan data baru didapatkan **nilai 1 ('yes') atau ada kemungkinan pada esok hari akan hujan**"
   ]
  },
  {
   "cell_type": "markdown",
   "id": "b8f99b7b",
   "metadata": {},
   "source": [
    "# Pengambilan Keputusan"
   ]
  },
  {
   "cell_type": "markdown",
   "id": "3c1e3d69",
   "metadata": {},
   "source": [
    "* objectivitas adalah membuat model klasifikasi untuk memprediksi kematian akibat Gagal Jantung.\n",
    "\n",
    "\n",
    "\n",
    "* Menggunakan Model Logistic Regression dalam melakukan proses klasifikasi pada variabel target RainTomorrow, hal tersebut dikarenakan dalam proses Training Model Logistic Regression memiliki waktu pelatihan yang lebih cepat dibandingkan dengan Model SVM \n",
    "\n",
    "* Dalam melakukan proses modelling Logistic Regression dalam melakukan proses klasifikasi pada variabel target RainTomorrow, didapatkan score sebagai berikut:\n",
    "    * Accuracy = 0.84\n",
    "    * ROC Curve = 0.86"
   ]
  },
  {
   "cell_type": "code",
   "execution_count": null,
   "id": "835ccc0e",
   "metadata": {},
   "outputs": [],
   "source": []
  }
 ],
 "metadata": {
  "kernelspec": {
   "display_name": "Python 3",
   "language": "python",
   "name": "python3"
  },
  "language_info": {
   "codemirror_mode": {
    "name": "ipython",
    "version": 3
   },
   "file_extension": ".py",
   "mimetype": "text/x-python",
   "name": "python",
   "nbconvert_exporter": "python",
   "pygments_lexer": "ipython3",
   "version": "3.8.5"
  }
 },
 "nbformat": 4,
 "nbformat_minor": 5
}
